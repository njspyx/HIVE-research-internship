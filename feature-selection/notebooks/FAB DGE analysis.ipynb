{
 "cells": [
  {
   "cell_type": "code",
   "execution_count": 32,
   "id": "b40689c3",
   "metadata": {},
   "outputs": [],
   "source": [
    "library(tidyverse) # metapackage of all tidyverse packages\n",
    "library(dplyr)"
   ]
  },
  {
   "cell_type": "code",
   "execution_count": 35,
   "id": "7632a627",
   "metadata": {},
   "outputs": [
    {
     "name": "stderr",
     "output_type": "stream",
     "text": [
      "'getOption(\"repos\")' replaces Bioconductor standard repositories, see\n",
      "'?repositories' for details\n",
      "\n",
      "replacement repositories:\n",
      "    CRAN: https://cran.r-project.org\n",
      "\n",
      "Bioconductor version 3.10 (BiocManager 1.30.16), R 3.6.1 (2019-07-05)\n",
      "Warning message:\n",
      "\"package(s) not installed when version(s) same as current; use `force = TRUE` to\n",
      "  re-install: 'Biobase'\"Old packages: 'askpass', 'backports', 'BH', 'blob', 'boot', 'broom', 'cachem',\n",
      "  'callr', 'caret', 'class', 'cli', 'clipr', 'cluster', 'codetools',\n",
      "  'colorspace', 'crayon', 'curl', 'data.table', 'dbplyr', 'digest', 'dplyr',\n",
      "  'evaluate', 'fansi', 'forcats', 'foreach', 'formatR', 'fs', 'generics',\n",
      "  'ggplot2', 'glmnet', 'glue', 'gower', 'haven', 'hexbin', 'highr', 'hms',\n",
      "  'htmltools', 'htmlwidgets', 'httpuv', 'httr', 'ipred', 'IRdisplay',\n",
      "  'IRkernel', 'iterators', 'jsonlite', 'KernSmooth', 'knitr', 'labeling',\n",
      "  'later', 'lattice', 'lava', 'lme4', 'lubridate', 'magrittr', 'markdown',\n",
      "  'MASS', 'Matrix', 'matrixStats', 'mgcv', 'mime', 'ModelMetrics', 'modelr',\n",
      "  'nlme', 'nnet', 'numDeriv', 'openssl', 'openxlsx', 'pbdZMQ', 'pillar',\n",
      "  'pkgconfig', 'plyr', 'prettyunits', 'processx', 'prodlim', 'progress',\n",
      "  'promises', 'ps', 'purrr', 'quantmod', 'quantreg', 'R6', 'Rcpp',\n",
      "  'RcppArmadillo', 'RCurl', 'readr', 'recipes', 'repr', 'reprex', 'reshape2',\n",
      "  'rlang', 'rmarkdown', 'RSQLite', 'rstudioapi', 'rvest', 'scales', 'selectr',\n",
      "  'shiny', 'spatial', 'SQUAREM', 'stringi', 'survival', 'sys', 'tibble',\n",
      "  'tidyr', 'tidyselect', 'tidyverse', 'tinytex', 'TTR', 'utf8', 'uuid',\n",
      "  'viridisLite', 'whisker', 'withr', 'xfun', 'xml2', 'xts', 'yaml', 'zip',\n",
      "  'zoo'\n"
     ]
    }
   ],
   "source": [
    "BiocManager::install(\"Biobase\")\n",
    "library(Biobase)"
   ]
  },
  {
   "cell_type": "code",
   "execution_count": 42,
   "id": "f6216378",
   "metadata": {},
   "outputs": [
    {
     "data": {
      "text/html": [
       "<table>\n",
       "<thead><tr><th scope=col>X.1</th><th scope=col>X</th><th scope=col>FAB</th></tr></thead>\n",
       "<tbody>\n",
       "\t<tr><td>1             </td><td>GSM1254265.CEL</td><td>M2            </td></tr>\n",
       "\t<tr><td>3             </td><td>GSM1254267.CEL</td><td>M5            </td></tr>\n",
       "\t<tr><td>4             </td><td>GSM1254268.CEL</td><td>M2            </td></tr>\n",
       "\t<tr><td>5             </td><td>GSM1254269.CEL</td><td>M1            </td></tr>\n",
       "\t<tr><td>6             </td><td>GSM1254270.CEL</td><td>M4            </td></tr>\n",
       "\t<tr><td>7             </td><td>GSM1254271.CEL</td><td>M0            </td></tr>\n",
       "</tbody>\n",
       "</table>\n"
      ],
      "text/latex": [
       "\\begin{tabular}{r|lll}\n",
       " X.1 & X & FAB\\\\\n",
       "\\hline\n",
       "\t 1              & GSM1254265.CEL & M2            \\\\\n",
       "\t 3              & GSM1254267.CEL & M5            \\\\\n",
       "\t 4              & GSM1254268.CEL & M2            \\\\\n",
       "\t 5              & GSM1254269.CEL & M1            \\\\\n",
       "\t 6              & GSM1254270.CEL & M4            \\\\\n",
       "\t 7              & GSM1254271.CEL & M0            \\\\\n",
       "\\end{tabular}\n"
      ],
      "text/markdown": [
       "\n",
       "| X.1 | X | FAB |\n",
       "|---|---|---|\n",
       "| 1              | GSM1254265.CEL | M2             |\n",
       "| 3              | GSM1254267.CEL | M5             |\n",
       "| 4              | GSM1254268.CEL | M2             |\n",
       "| 5              | GSM1254269.CEL | M1             |\n",
       "| 6              | GSM1254270.CEL | M4             |\n",
       "| 7              | GSM1254271.CEL | M0             |\n",
       "\n"
      ],
      "text/plain": [
       "  X.1 X              FAB\n",
       "1 1   GSM1254265.CEL M2 \n",
       "2 3   GSM1254267.CEL M5 \n",
       "3 4   GSM1254268.CEL M2 \n",
       "4 5   GSM1254269.CEL M1 \n",
       "5 6   GSM1254270.CEL M4 \n",
       "6 7   GSM1254271.CEL M0 "
      ]
     },
     "metadata": {},
     "output_type": "display_data"
    }
   ],
   "source": [
    "ptemp <- read.csv(\"C:/Users/neelj/Documents/HIVE/FAB Feature Selecion/GSE147515_FAB_lbl.csv\")\n",
    "head(ptemp)"
   ]
  },
  {
   "cell_type": "code",
   "execution_count": 43,
   "id": "deebbf06",
   "metadata": {},
   "outputs": [
    {
     "data": {
      "text/html": [
       "<table>\n",
       "<thead><tr><th></th><th scope=col>FAB</th></tr></thead>\n",
       "<tbody>\n",
       "\t<tr><th scope=row>GSM1254265.CEL</th><td>M2</td></tr>\n",
       "\t<tr><th scope=row>GSM1254267.CEL</th><td>M5</td></tr>\n",
       "\t<tr><th scope=row>GSM1254268.CEL</th><td>M2</td></tr>\n",
       "\t<tr><th scope=row>GSM1254269.CEL</th><td>M1</td></tr>\n",
       "\t<tr><th scope=row>GSM1254270.CEL</th><td>M4</td></tr>\n",
       "\t<tr><th scope=row>GSM1254271.CEL</th><td>M0</td></tr>\n",
       "</tbody>\n",
       "</table>\n"
      ],
      "text/latex": [
       "\\begin{tabular}{r|l}\n",
       "  & FAB\\\\\n",
       "\\hline\n",
       "\tGSM1254265.CEL & M2\\\\\n",
       "\tGSM1254267.CEL & M5\\\\\n",
       "\tGSM1254268.CEL & M2\\\\\n",
       "\tGSM1254269.CEL & M1\\\\\n",
       "\tGSM1254270.CEL & M4\\\\\n",
       "\tGSM1254271.CEL & M0\\\\\n",
       "\\end{tabular}\n"
      ],
      "text/markdown": [
       "\n",
       "| <!--/--> | FAB |\n",
       "|---|---|\n",
       "| GSM1254265.CEL | M2 |\n",
       "| GSM1254267.CEL | M5 |\n",
       "| GSM1254268.CEL | M2 |\n",
       "| GSM1254269.CEL | M1 |\n",
       "| GSM1254270.CEL | M4 |\n",
       "| GSM1254271.CEL | M0 |\n",
       "\n"
      ],
      "text/plain": [
       "               FAB\n",
       "GSM1254265.CEL M2 \n",
       "GSM1254267.CEL M5 \n",
       "GSM1254268.CEL M2 \n",
       "GSM1254269.CEL M1 \n",
       "GSM1254270.CEL M4 \n",
       "GSM1254271.CEL M0 "
      ]
     },
     "metadata": {},
     "output_type": "display_data"
    }
   ],
   "source": [
    "ptemp$X.1 <- NULL\n",
    "rownames(ptemp) <- ptemp$X\n",
    "ptemp[1] <- NULL\n",
    "head(ptemp)"
   ]
  },
  {
   "cell_type": "code",
   "execution_count": 49,
   "id": "541ad631",
   "metadata": {},
   "outputs": [],
   "source": [
    "pdata <- AnnotatedDataFrame(ptemp)"
   ]
  },
  {
   "cell_type": "code",
   "execution_count": 45,
   "id": "abbd3150",
   "metadata": {},
   "outputs": [
    {
     "data": {
      "text/html": [
       "<table>\n",
       "<thead><tr><th scope=col>X</th><th scope=col>GSM1254265.CEL</th><th scope=col>GSM1254267.CEL</th><th scope=col>GSM1254268.CEL</th><th scope=col>GSM1254269.CEL</th><th scope=col>GSM1254270.CEL</th><th scope=col>GSM1254271.CEL</th><th scope=col>GSM1254272.CEL</th><th scope=col>GSM1254273.CEL</th><th scope=col>GSM1254274.CEL</th><th scope=col>...</th><th scope=col>GSM726249.CEL</th><th scope=col>GSM726251.CEL</th><th scope=col>GSM726252.CEL</th><th scope=col>GSM726253.CEL</th><th scope=col>GSM726256.CEL</th><th scope=col>GSM726257.CEL</th><th scope=col>GSM726258.CEL</th><th scope=col>GSM726259.CEL</th><th scope=col>GSM726260.CEL</th><th scope=col>name</th></tr></thead>\n",
       "<tbody>\n",
       "\t<tr><td>RFC2_1  </td><td>7.537840</td><td>6.800871</td><td>6.752669</td><td>5.929756</td><td>7.353971</td><td>6.496232</td><td>6.716364</td><td>7.407105</td><td>7.955677</td><td>...     </td><td>7.605745</td><td>7.701945</td><td>7.096387</td><td>6.600813</td><td>6.563042</td><td>6.671309</td><td>5.930616</td><td>6.119624</td><td>6.554417</td><td>RFC2    </td></tr>\n",
       "\t<tr><td>HSPA6_2 </td><td>4.679401</td><td>4.777950</td><td>4.360962</td><td>4.509553</td><td>4.720435</td><td>7.669224</td><td>5.432612</td><td>4.435121</td><td>4.860942</td><td>...     </td><td>4.396333</td><td>5.979429</td><td>4.177423</td><td>4.290783</td><td>5.271843</td><td>5.841040</td><td>7.307721</td><td>6.138064</td><td>4.855038</td><td>HSPA6   </td></tr>\n",
       "\t<tr><td>PAX8_3  </td><td>6.798042</td><td>7.370561</td><td>7.043800</td><td>7.132901</td><td>7.272406</td><td>6.851993</td><td>7.215697</td><td>7.225802</td><td>7.017084</td><td>...     </td><td>7.564590</td><td>6.726327</td><td>7.424036</td><td>7.026728</td><td>6.710751</td><td>7.198889</td><td>6.996386</td><td>6.894396</td><td>7.371354</td><td>PAX8    </td></tr>\n",
       "\t<tr><td>GUCA1A_4</td><td>2.704549</td><td>2.500655</td><td>2.644052</td><td>2.712234</td><td>2.861128</td><td>2.913571</td><td>2.820453</td><td>2.752378</td><td>2.886452</td><td>...     </td><td>2.650575</td><td>2.795106</td><td>2.576289</td><td>2.807488</td><td>2.784839</td><td>2.746156</td><td>2.694078</td><td>3.009329</td><td>2.856732</td><td>GUCA1A  </td></tr>\n",
       "\t<tr><td>THRA_5  </td><td>4.544424</td><td>5.050274</td><td>4.988216</td><td>4.862662</td><td>5.144750</td><td>4.837291</td><td>4.871102</td><td>4.981282</td><td>4.780484</td><td>...     </td><td>4.846550</td><td>5.505493</td><td>5.088999</td><td>5.112156</td><td>5.743054</td><td>5.497159</td><td>5.444714</td><td>5.167476</td><td>5.273593</td><td>THRA    </td></tr>\n",
       "\t<tr><td>PTPN21_6</td><td>3.734027</td><td>3.630663</td><td>3.587355</td><td>4.006397</td><td>3.762099</td><td>3.608655</td><td>3.754732</td><td>3.931028</td><td>3.686961</td><td>...     </td><td>3.784949</td><td>3.751392</td><td>3.702852</td><td>3.803101</td><td>3.597913</td><td>3.614316</td><td>3.799544</td><td>3.681782</td><td>3.887242</td><td>PTPN21  </td></tr>\n",
       "</tbody>\n",
       "</table>\n"
      ],
      "text/latex": [
       "\\begin{tabular}{r|llllllllllllllllllllllllllllllllllllllllllllllllllllllllllllllllllllllllllllllllllllllllllllllllllllllllllllllllllllllllllllllllllllllllllllllllllllllllllllllllllllllllllllllllllllllllllllllllllllllllllllllllllllllllllllllllllllllllllllllllllllllllllllllllllllllllllllllllllllllllllllllllllllllllllllllllllllllllllllllllllllllllllllllllllllllllllllllllllllllllllllllllllllllllllllllllllllllllllllllllllllllllllllllllllllllllllllllllllllllllllllllllllllllllllllllllll}\n",
       " X & GSM1254265.CEL & GSM1254267.CEL & GSM1254268.CEL & GSM1254269.CEL & GSM1254270.CEL & GSM1254271.CEL & GSM1254272.CEL & GSM1254273.CEL & GSM1254274.CEL & ... & GSM726249.CEL & GSM726251.CEL & GSM726252.CEL & GSM726253.CEL & GSM726256.CEL & GSM726257.CEL & GSM726258.CEL & GSM726259.CEL & GSM726260.CEL & name\\\\\n",
       "\\hline\n",
       "\t RFC2\\_1   & 7.537840   & 6.800871   & 6.752669   & 5.929756   & 7.353971   & 6.496232   & 6.716364   & 7.407105   & 7.955677   & ...        & 7.605745   & 7.701945   & 7.096387   & 6.600813   & 6.563042   & 6.671309   & 5.930616   & 6.119624   & 6.554417   & RFC2      \\\\\n",
       "\t HSPA6\\_2  & 4.679401   & 4.777950   & 4.360962   & 4.509553   & 4.720435   & 7.669224   & 5.432612   & 4.435121   & 4.860942   & ...        & 4.396333   & 5.979429   & 4.177423   & 4.290783   & 5.271843   & 5.841040   & 7.307721   & 6.138064   & 4.855038   & HSPA6     \\\\\n",
       "\t PAX8\\_3   & 6.798042   & 7.370561   & 7.043800   & 7.132901   & 7.272406   & 6.851993   & 7.215697   & 7.225802   & 7.017084   & ...        & 7.564590   & 6.726327   & 7.424036   & 7.026728   & 6.710751   & 7.198889   & 6.996386   & 6.894396   & 7.371354   & PAX8      \\\\\n",
       "\t GUCA1A\\_4 & 2.704549   & 2.500655   & 2.644052   & 2.712234   & 2.861128   & 2.913571   & 2.820453   & 2.752378   & 2.886452   & ...        & 2.650575   & 2.795106   & 2.576289   & 2.807488   & 2.784839   & 2.746156   & 2.694078   & 3.009329   & 2.856732   & GUCA1A    \\\\\n",
       "\t THRA\\_5   & 4.544424   & 5.050274   & 4.988216   & 4.862662   & 5.144750   & 4.837291   & 4.871102   & 4.981282   & 4.780484   & ...        & 4.846550   & 5.505493   & 5.088999   & 5.112156   & 5.743054   & 5.497159   & 5.444714   & 5.167476   & 5.273593   & THRA      \\\\\n",
       "\t PTPN21\\_6 & 3.734027   & 3.630663   & 3.587355   & 4.006397   & 3.762099   & 3.608655   & 3.754732   & 3.931028   & 3.686961   & ...        & 3.784949   & 3.751392   & 3.702852   & 3.803101   & 3.597913   & 3.614316   & 3.799544   & 3.681782   & 3.887242   & PTPN21    \\\\\n",
       "\\end{tabular}\n"
      ],
      "text/markdown": [
       "\n",
       "| X | GSM1254265.CEL | GSM1254267.CEL | GSM1254268.CEL | GSM1254269.CEL | GSM1254270.CEL | GSM1254271.CEL | GSM1254272.CEL | GSM1254273.CEL | GSM1254274.CEL | ... | GSM726249.CEL | GSM726251.CEL | GSM726252.CEL | GSM726253.CEL | GSM726256.CEL | GSM726257.CEL | GSM726258.CEL | GSM726259.CEL | GSM726260.CEL | name |\n",
       "|---|---|---|---|---|---|---|---|---|---|---|---|---|---|---|---|---|---|---|---|---|\n",
       "| RFC2_1   | 7.537840 | 6.800871 | 6.752669 | 5.929756 | 7.353971 | 6.496232 | 6.716364 | 7.407105 | 7.955677 | ...      | 7.605745 | 7.701945 | 7.096387 | 6.600813 | 6.563042 | 6.671309 | 5.930616 | 6.119624 | 6.554417 | RFC2     |\n",
       "| HSPA6_2  | 4.679401 | 4.777950 | 4.360962 | 4.509553 | 4.720435 | 7.669224 | 5.432612 | 4.435121 | 4.860942 | ...      | 4.396333 | 5.979429 | 4.177423 | 4.290783 | 5.271843 | 5.841040 | 7.307721 | 6.138064 | 4.855038 | HSPA6    |\n",
       "| PAX8_3   | 6.798042 | 7.370561 | 7.043800 | 7.132901 | 7.272406 | 6.851993 | 7.215697 | 7.225802 | 7.017084 | ...      | 7.564590 | 6.726327 | 7.424036 | 7.026728 | 6.710751 | 7.198889 | 6.996386 | 6.894396 | 7.371354 | PAX8     |\n",
       "| GUCA1A_4 | 2.704549 | 2.500655 | 2.644052 | 2.712234 | 2.861128 | 2.913571 | 2.820453 | 2.752378 | 2.886452 | ...      | 2.650575 | 2.795106 | 2.576289 | 2.807488 | 2.784839 | 2.746156 | 2.694078 | 3.009329 | 2.856732 | GUCA1A   |\n",
       "| THRA_5   | 4.544424 | 5.050274 | 4.988216 | 4.862662 | 5.144750 | 4.837291 | 4.871102 | 4.981282 | 4.780484 | ...      | 4.846550 | 5.505493 | 5.088999 | 5.112156 | 5.743054 | 5.497159 | 5.444714 | 5.167476 | 5.273593 | THRA     |\n",
       "| PTPN21_6 | 3.734027 | 3.630663 | 3.587355 | 4.006397 | 3.762099 | 3.608655 | 3.754732 | 3.931028 | 3.686961 | ...      | 3.784949 | 3.751392 | 3.702852 | 3.803101 | 3.597913 | 3.614316 | 3.799544 | 3.681782 | 3.887242 | PTPN21   |\n",
       "\n"
      ],
      "text/plain": [
       "  X        GSM1254265.CEL GSM1254267.CEL GSM1254268.CEL GSM1254269.CEL\n",
       "1 RFC2_1   7.537840       6.800871       6.752669       5.929756      \n",
       "2 HSPA6_2  4.679401       4.777950       4.360962       4.509553      \n",
       "3 PAX8_3   6.798042       7.370561       7.043800       7.132901      \n",
       "4 GUCA1A_4 2.704549       2.500655       2.644052       2.712234      \n",
       "5 THRA_5   4.544424       5.050274       4.988216       4.862662      \n",
       "6 PTPN21_6 3.734027       3.630663       3.587355       4.006397      \n",
       "  GSM1254270.CEL GSM1254271.CEL GSM1254272.CEL GSM1254273.CEL GSM1254274.CEL\n",
       "1 7.353971       6.496232       6.716364       7.407105       7.955677      \n",
       "2 4.720435       7.669224       5.432612       4.435121       4.860942      \n",
       "3 7.272406       6.851993       7.215697       7.225802       7.017084      \n",
       "4 2.861128       2.913571       2.820453       2.752378       2.886452      \n",
       "5 5.144750       4.837291       4.871102       4.981282       4.780484      \n",
       "6 3.762099       3.608655       3.754732       3.931028       3.686961      \n",
       "  ... GSM726249.CEL GSM726251.CEL GSM726252.CEL GSM726253.CEL GSM726256.CEL\n",
       "1 ... 7.605745      7.701945      7.096387      6.600813      6.563042     \n",
       "2 ... 4.396333      5.979429      4.177423      4.290783      5.271843     \n",
       "3 ... 7.564590      6.726327      7.424036      7.026728      6.710751     \n",
       "4 ... 2.650575      2.795106      2.576289      2.807488      2.784839     \n",
       "5 ... 4.846550      5.505493      5.088999      5.112156      5.743054     \n",
       "6 ... 3.784949      3.751392      3.702852      3.803101      3.597913     \n",
       "  GSM726257.CEL GSM726258.CEL GSM726259.CEL GSM726260.CEL name  \n",
       "1 6.671309      5.930616      6.119624      6.554417      RFC2  \n",
       "2 5.841040      7.307721      6.138064      4.855038      HSPA6 \n",
       "3 7.198889      6.996386      6.894396      7.371354      PAX8  \n",
       "4 2.746156      2.694078      3.009329      2.856732      GUCA1A\n",
       "5 5.497159      5.444714      5.167476      5.273593      THRA  \n",
       "6 3.614316      3.799544      3.681782      3.887242      PTPN21"
      ]
     },
     "metadata": {},
     "output_type": "display_data"
    }
   ],
   "source": [
    "etemp <- read.csv(\"C:/Users/neelj/Documents/HIVE/FAB Feature Selecion/GSE147515_FAB_mat.csv\")\n",
    "head(etemp)"
   ]
  },
  {
   "cell_type": "code",
   "execution_count": 46,
   "id": "965769dd",
   "metadata": {},
   "outputs": [
    {
     "data": {
      "text/html": [
       "<table>\n",
       "<thead><tr><th></th><th scope=col>GSM1254265.CEL</th><th scope=col>GSM1254267.CEL</th><th scope=col>GSM1254268.CEL</th><th scope=col>GSM1254269.CEL</th><th scope=col>GSM1254270.CEL</th><th scope=col>GSM1254271.CEL</th><th scope=col>GSM1254272.CEL</th><th scope=col>GSM1254273.CEL</th><th scope=col>GSM1254274.CEL</th><th scope=col>GSM1254275.CEL</th><th scope=col>...</th><th scope=col>GSM726248.CEL</th><th scope=col>GSM726249.CEL</th><th scope=col>GSM726251.CEL</th><th scope=col>GSM726252.CEL</th><th scope=col>GSM726253.CEL</th><th scope=col>GSM726256.CEL</th><th scope=col>GSM726257.CEL</th><th scope=col>GSM726258.CEL</th><th scope=col>GSM726259.CEL</th><th scope=col>GSM726260.CEL</th></tr></thead>\n",
       "<tbody>\n",
       "\t<tr><th scope=row>RFC2_1</th><td>7.537840</td><td>6.800871</td><td>6.752669</td><td>5.929756</td><td>7.353971</td><td>6.496232</td><td>6.716364</td><td>7.407105</td><td>7.955677</td><td>6.978522</td><td>...     </td><td>5.526605</td><td>7.605745</td><td>7.701945</td><td>7.096387</td><td>6.600813</td><td>6.563042</td><td>6.671309</td><td>5.930616</td><td>6.119624</td><td>6.554417</td></tr>\n",
       "\t<tr><th scope=row>HSPA6_2</th><td>4.679401</td><td>4.777950</td><td>4.360962</td><td>4.509553</td><td>4.720435</td><td>7.669224</td><td>5.432612</td><td>4.435121</td><td>4.860942</td><td>6.589701</td><td>...     </td><td>5.071652</td><td>4.396333</td><td>5.979429</td><td>4.177423</td><td>4.290783</td><td>5.271843</td><td>5.841040</td><td>7.307721</td><td>6.138064</td><td>4.855038</td></tr>\n",
       "\t<tr><th scope=row>PAX8_3</th><td>6.798042</td><td>7.370561</td><td>7.043800</td><td>7.132901</td><td>7.272406</td><td>6.851993</td><td>7.215697</td><td>7.225802</td><td>7.017084</td><td>7.035230</td><td>...     </td><td>6.637921</td><td>7.564590</td><td>6.726327</td><td>7.424036</td><td>7.026728</td><td>6.710751</td><td>7.198889</td><td>6.996386</td><td>6.894396</td><td>7.371354</td></tr>\n",
       "\t<tr><th scope=row>GUCA1A_4</th><td>2.704549</td><td>2.500655</td><td>2.644052</td><td>2.712234</td><td>2.861128</td><td>2.913571</td><td>2.820453</td><td>2.752378</td><td>2.886452</td><td>2.818774</td><td>...     </td><td>2.918437</td><td>2.650575</td><td>2.795106</td><td>2.576289</td><td>2.807488</td><td>2.784839</td><td>2.746156</td><td>2.694078</td><td>3.009329</td><td>2.856732</td></tr>\n",
       "\t<tr><th scope=row>THRA_5</th><td>4.544424</td><td>5.050274</td><td>4.988216</td><td>4.862662</td><td>5.144750</td><td>4.837291</td><td>4.871102</td><td>4.981282</td><td>4.780484</td><td>4.604664</td><td>...     </td><td>6.408416</td><td>4.846550</td><td>5.505493</td><td>5.088999</td><td>5.112156</td><td>5.743054</td><td>5.497159</td><td>5.444714</td><td>5.167476</td><td>5.273593</td></tr>\n",
       "\t<tr><th scope=row>PTPN21_6</th><td>3.734027</td><td>3.630663</td><td>3.587355</td><td>4.006397</td><td>3.762099</td><td>3.608655</td><td>3.754732</td><td>3.931028</td><td>3.686961</td><td>3.656161</td><td>...     </td><td>3.931349</td><td>3.784949</td><td>3.751392</td><td>3.702852</td><td>3.803101</td><td>3.597913</td><td>3.614316</td><td>3.799544</td><td>3.681782</td><td>3.887242</td></tr>\n",
       "</tbody>\n",
       "</table>\n"
      ],
      "text/latex": [
       "\\begin{tabular}{r|llllllllllllllllllllllllllllllllllllllllllllllllllllllllllllllllllllllllllllllllllllllllllllllllllllllllllllllllllllllllllllllllllllllllllllllllllllllllllllllllllllllllllllllllllllllllllllllllllllllllllllllllllllllllllllllllllllllllllllllllllllllllllllllllllllllllllllllllllllllllllllllllllllllllllllllllllllllllllllllllllllllllllllllllllllllllllllllllllllllllllllllllllllllllllllllllllllllllllllllllllllllllllllllllllllllllllllllllllllllllllllllllllllllllllllllll}\n",
       "  & GSM1254265.CEL & GSM1254267.CEL & GSM1254268.CEL & GSM1254269.CEL & GSM1254270.CEL & GSM1254271.CEL & GSM1254272.CEL & GSM1254273.CEL & GSM1254274.CEL & GSM1254275.CEL & ... & GSM726248.CEL & GSM726249.CEL & GSM726251.CEL & GSM726252.CEL & GSM726253.CEL & GSM726256.CEL & GSM726257.CEL & GSM726258.CEL & GSM726259.CEL & GSM726260.CEL\\\\\n",
       "\\hline\n",
       "\tRFC2\\_1 & 7.537840 & 6.800871 & 6.752669 & 5.929756 & 7.353971 & 6.496232 & 6.716364 & 7.407105 & 7.955677 & 6.978522 & ...      & 5.526605 & 7.605745 & 7.701945 & 7.096387 & 6.600813 & 6.563042 & 6.671309 & 5.930616 & 6.119624 & 6.554417\\\\\n",
       "\tHSPA6\\_2 & 4.679401 & 4.777950 & 4.360962 & 4.509553 & 4.720435 & 7.669224 & 5.432612 & 4.435121 & 4.860942 & 6.589701 & ...      & 5.071652 & 4.396333 & 5.979429 & 4.177423 & 4.290783 & 5.271843 & 5.841040 & 7.307721 & 6.138064 & 4.855038\\\\\n",
       "\tPAX8\\_3 & 6.798042 & 7.370561 & 7.043800 & 7.132901 & 7.272406 & 6.851993 & 7.215697 & 7.225802 & 7.017084 & 7.035230 & ...      & 6.637921 & 7.564590 & 6.726327 & 7.424036 & 7.026728 & 6.710751 & 7.198889 & 6.996386 & 6.894396 & 7.371354\\\\\n",
       "\tGUCA1A\\_4 & 2.704549 & 2.500655 & 2.644052 & 2.712234 & 2.861128 & 2.913571 & 2.820453 & 2.752378 & 2.886452 & 2.818774 & ...      & 2.918437 & 2.650575 & 2.795106 & 2.576289 & 2.807488 & 2.784839 & 2.746156 & 2.694078 & 3.009329 & 2.856732\\\\\n",
       "\tTHRA\\_5 & 4.544424 & 5.050274 & 4.988216 & 4.862662 & 5.144750 & 4.837291 & 4.871102 & 4.981282 & 4.780484 & 4.604664 & ...      & 6.408416 & 4.846550 & 5.505493 & 5.088999 & 5.112156 & 5.743054 & 5.497159 & 5.444714 & 5.167476 & 5.273593\\\\\n",
       "\tPTPN21\\_6 & 3.734027 & 3.630663 & 3.587355 & 4.006397 & 3.762099 & 3.608655 & 3.754732 & 3.931028 & 3.686961 & 3.656161 & ...      & 3.931349 & 3.784949 & 3.751392 & 3.702852 & 3.803101 & 3.597913 & 3.614316 & 3.799544 & 3.681782 & 3.887242\\\\\n",
       "\\end{tabular}\n"
      ],
      "text/markdown": [
       "\n",
       "| <!--/--> | GSM1254265.CEL | GSM1254267.CEL | GSM1254268.CEL | GSM1254269.CEL | GSM1254270.CEL | GSM1254271.CEL | GSM1254272.CEL | GSM1254273.CEL | GSM1254274.CEL | GSM1254275.CEL | ... | GSM726248.CEL | GSM726249.CEL | GSM726251.CEL | GSM726252.CEL | GSM726253.CEL | GSM726256.CEL | GSM726257.CEL | GSM726258.CEL | GSM726259.CEL | GSM726260.CEL |\n",
       "|---|---|---|---|---|---|---|---|---|---|---|---|---|---|---|---|---|---|---|---|---|---|\n",
       "| RFC2_1 | 7.537840 | 6.800871 | 6.752669 | 5.929756 | 7.353971 | 6.496232 | 6.716364 | 7.407105 | 7.955677 | 6.978522 | ...      | 5.526605 | 7.605745 | 7.701945 | 7.096387 | 6.600813 | 6.563042 | 6.671309 | 5.930616 | 6.119624 | 6.554417 |\n",
       "| HSPA6_2 | 4.679401 | 4.777950 | 4.360962 | 4.509553 | 4.720435 | 7.669224 | 5.432612 | 4.435121 | 4.860942 | 6.589701 | ...      | 5.071652 | 4.396333 | 5.979429 | 4.177423 | 4.290783 | 5.271843 | 5.841040 | 7.307721 | 6.138064 | 4.855038 |\n",
       "| PAX8_3 | 6.798042 | 7.370561 | 7.043800 | 7.132901 | 7.272406 | 6.851993 | 7.215697 | 7.225802 | 7.017084 | 7.035230 | ...      | 6.637921 | 7.564590 | 6.726327 | 7.424036 | 7.026728 | 6.710751 | 7.198889 | 6.996386 | 6.894396 | 7.371354 |\n",
       "| GUCA1A_4 | 2.704549 | 2.500655 | 2.644052 | 2.712234 | 2.861128 | 2.913571 | 2.820453 | 2.752378 | 2.886452 | 2.818774 | ...      | 2.918437 | 2.650575 | 2.795106 | 2.576289 | 2.807488 | 2.784839 | 2.746156 | 2.694078 | 3.009329 | 2.856732 |\n",
       "| THRA_5 | 4.544424 | 5.050274 | 4.988216 | 4.862662 | 5.144750 | 4.837291 | 4.871102 | 4.981282 | 4.780484 | 4.604664 | ...      | 6.408416 | 4.846550 | 5.505493 | 5.088999 | 5.112156 | 5.743054 | 5.497159 | 5.444714 | 5.167476 | 5.273593 |\n",
       "| PTPN21_6 | 3.734027 | 3.630663 | 3.587355 | 4.006397 | 3.762099 | 3.608655 | 3.754732 | 3.931028 | 3.686961 | 3.656161 | ...      | 3.931349 | 3.784949 | 3.751392 | 3.702852 | 3.803101 | 3.597913 | 3.614316 | 3.799544 | 3.681782 | 3.887242 |\n",
       "\n"
      ],
      "text/plain": [
       "         GSM1254265.CEL GSM1254267.CEL GSM1254268.CEL GSM1254269.CEL\n",
       "RFC2_1   7.537840       6.800871       6.752669       5.929756      \n",
       "HSPA6_2  4.679401       4.777950       4.360962       4.509553      \n",
       "PAX8_3   6.798042       7.370561       7.043800       7.132901      \n",
       "GUCA1A_4 2.704549       2.500655       2.644052       2.712234      \n",
       "THRA_5   4.544424       5.050274       4.988216       4.862662      \n",
       "PTPN21_6 3.734027       3.630663       3.587355       4.006397      \n",
       "         GSM1254270.CEL GSM1254271.CEL GSM1254272.CEL GSM1254273.CEL\n",
       "RFC2_1   7.353971       6.496232       6.716364       7.407105      \n",
       "HSPA6_2  4.720435       7.669224       5.432612       4.435121      \n",
       "PAX8_3   7.272406       6.851993       7.215697       7.225802      \n",
       "GUCA1A_4 2.861128       2.913571       2.820453       2.752378      \n",
       "THRA_5   5.144750       4.837291       4.871102       4.981282      \n",
       "PTPN21_6 3.762099       3.608655       3.754732       3.931028      \n",
       "         GSM1254274.CEL GSM1254275.CEL ... GSM726248.CEL GSM726249.CEL\n",
       "RFC2_1   7.955677       6.978522       ... 5.526605      7.605745     \n",
       "HSPA6_2  4.860942       6.589701       ... 5.071652      4.396333     \n",
       "PAX8_3   7.017084       7.035230       ... 6.637921      7.564590     \n",
       "GUCA1A_4 2.886452       2.818774       ... 2.918437      2.650575     \n",
       "THRA_5   4.780484       4.604664       ... 6.408416      4.846550     \n",
       "PTPN21_6 3.686961       3.656161       ... 3.931349      3.784949     \n",
       "         GSM726251.CEL GSM726252.CEL GSM726253.CEL GSM726256.CEL GSM726257.CEL\n",
       "RFC2_1   7.701945      7.096387      6.600813      6.563042      6.671309     \n",
       "HSPA6_2  5.979429      4.177423      4.290783      5.271843      5.841040     \n",
       "PAX8_3   6.726327      7.424036      7.026728      6.710751      7.198889     \n",
       "GUCA1A_4 2.795106      2.576289      2.807488      2.784839      2.746156     \n",
       "THRA_5   5.505493      5.088999      5.112156      5.743054      5.497159     \n",
       "PTPN21_6 3.751392      3.702852      3.803101      3.597913      3.614316     \n",
       "         GSM726258.CEL GSM726259.CEL GSM726260.CEL\n",
       "RFC2_1   5.930616      6.119624      6.554417     \n",
       "HSPA6_2  7.307721      6.138064      4.855038     \n",
       "PAX8_3   6.996386      6.894396      7.371354     \n",
       "GUCA1A_4 2.694078      3.009329      2.856732     \n",
       "THRA_5   5.444714      5.167476      5.273593     \n",
       "PTPN21_6 3.799544      3.681782      3.887242     "
      ]
     },
     "metadata": {},
     "output_type": "display_data"
    }
   ],
   "source": [
    "etemp$name <- NULL\n",
    "rownames(etemp) <- etemp$X\n",
    "etemp[1] <- NULL\n",
    "head(etemp)"
   ]
  },
  {
   "cell_type": "code",
   "execution_count": 47,
   "id": "cef0d0f0",
   "metadata": {},
   "outputs": [],
   "source": [
    "mat <- as.matrix(etemp)"
   ]
  },
  {
   "cell_type": "code",
   "execution_count": 50,
   "id": "5058a3ec",
   "metadata": {},
   "outputs": [],
   "source": [
    "eset <- new(\"ExpressionSet\", exprs=mat, phenoData=pdata)"
   ]
  },
  {
   "cell_type": "code",
   "execution_count": 51,
   "id": "c443a4f6",
   "metadata": {},
   "outputs": [
    {
     "data": {
      "text/html": [
       "<table>\n",
       "<thead><tr><th></th><th scope=col>GSM1254265.CEL</th><th scope=col>GSM1254267.CEL</th><th scope=col>GSM1254268.CEL</th><th scope=col>GSM1254269.CEL</th><th scope=col>GSM1254270.CEL</th><th scope=col>GSM1254271.CEL</th><th scope=col>GSM1254272.CEL</th><th scope=col>GSM1254273.CEL</th><th scope=col>GSM1254274.CEL</th><th scope=col>GSM1254275.CEL</th><th scope=col>...</th><th scope=col>GSM726248.CEL</th><th scope=col>GSM726249.CEL</th><th scope=col>GSM726251.CEL</th><th scope=col>GSM726252.CEL</th><th scope=col>GSM726253.CEL</th><th scope=col>GSM726256.CEL</th><th scope=col>GSM726257.CEL</th><th scope=col>GSM726258.CEL</th><th scope=col>GSM726259.CEL</th><th scope=col>GSM726260.CEL</th></tr></thead>\n",
       "<tbody>\n",
       "\t<tr><th scope=row>RFC2_1</th><td>7.537840</td><td>6.800871</td><td>6.752669</td><td>5.929756</td><td>7.353971</td><td>6.496232</td><td>6.716364</td><td>7.407105</td><td>7.955677</td><td>6.978522</td><td>...     </td><td>5.526605</td><td>7.605745</td><td>7.701945</td><td>7.096387</td><td>6.600813</td><td>6.563042</td><td>6.671309</td><td>5.930616</td><td>6.119624</td><td>6.554417</td></tr>\n",
       "\t<tr><th scope=row>HSPA6_2</th><td>4.679401</td><td>4.777950</td><td>4.360962</td><td>4.509553</td><td>4.720435</td><td>7.669224</td><td>5.432612</td><td>4.435121</td><td>4.860942</td><td>6.589701</td><td>...     </td><td>5.071652</td><td>4.396333</td><td>5.979429</td><td>4.177423</td><td>4.290783</td><td>5.271843</td><td>5.841040</td><td>7.307721</td><td>6.138064</td><td>4.855038</td></tr>\n",
       "\t<tr><th scope=row>PAX8_3</th><td>6.798042</td><td>7.370561</td><td>7.043800</td><td>7.132901</td><td>7.272406</td><td>6.851993</td><td>7.215697</td><td>7.225802</td><td>7.017084</td><td>7.035230</td><td>...     </td><td>6.637921</td><td>7.564590</td><td>6.726327</td><td>7.424036</td><td>7.026728</td><td>6.710751</td><td>7.198889</td><td>6.996386</td><td>6.894396</td><td>7.371354</td></tr>\n",
       "\t<tr><th scope=row>GUCA1A_4</th><td>2.704549</td><td>2.500655</td><td>2.644052</td><td>2.712234</td><td>2.861128</td><td>2.913571</td><td>2.820453</td><td>2.752378</td><td>2.886452</td><td>2.818774</td><td>...     </td><td>2.918437</td><td>2.650575</td><td>2.795106</td><td>2.576289</td><td>2.807488</td><td>2.784839</td><td>2.746156</td><td>2.694078</td><td>3.009329</td><td>2.856732</td></tr>\n",
       "\t<tr><th scope=row>THRA_5</th><td>4.544424</td><td>5.050274</td><td>4.988216</td><td>4.862662</td><td>5.144750</td><td>4.837291</td><td>4.871102</td><td>4.981282</td><td>4.780484</td><td>4.604664</td><td>...     </td><td>6.408416</td><td>4.846550</td><td>5.505493</td><td>5.088999</td><td>5.112156</td><td>5.743054</td><td>5.497159</td><td>5.444714</td><td>5.167476</td><td>5.273593</td></tr>\n",
       "\t<tr><th scope=row>PTPN21_6</th><td>3.734027</td><td>3.630663</td><td>3.587355</td><td>4.006397</td><td>3.762099</td><td>3.608655</td><td>3.754732</td><td>3.931028</td><td>3.686961</td><td>3.656161</td><td>...     </td><td>3.931349</td><td>3.784949</td><td>3.751392</td><td>3.702852</td><td>3.803101</td><td>3.597913</td><td>3.614316</td><td>3.799544</td><td>3.681782</td><td>3.887242</td></tr>\n",
       "</tbody>\n",
       "</table>\n"
      ],
      "text/latex": [
       "\\begin{tabular}{r|llllllllllllllllllllllllllllllllllllllllllllllllllllllllllllllllllllllllllllllllllllllllllllllllllllllllllllllllllllllllllllllllllllllllllllllllllllllllllllllllllllllllllllllllllllllllllllllllllllllllllllllllllllllllllllllllllllllllllllllllllllllllllllllllllllllllllllllllllllllllllllllllllllllllllllllllllllllllllllllllllllllllllllllllllllllllllllllllllllllllllllllllllllllllllllllllllllllllllllllllllllllllllllllllllllllllllllllllllllllllllllllllllllllllllllllll}\n",
       "  & GSM1254265.CEL & GSM1254267.CEL & GSM1254268.CEL & GSM1254269.CEL & GSM1254270.CEL & GSM1254271.CEL & GSM1254272.CEL & GSM1254273.CEL & GSM1254274.CEL & GSM1254275.CEL & ... & GSM726248.CEL & GSM726249.CEL & GSM726251.CEL & GSM726252.CEL & GSM726253.CEL & GSM726256.CEL & GSM726257.CEL & GSM726258.CEL & GSM726259.CEL & GSM726260.CEL\\\\\n",
       "\\hline\n",
       "\tRFC2\\_1 & 7.537840 & 6.800871 & 6.752669 & 5.929756 & 7.353971 & 6.496232 & 6.716364 & 7.407105 & 7.955677 & 6.978522 & ...      & 5.526605 & 7.605745 & 7.701945 & 7.096387 & 6.600813 & 6.563042 & 6.671309 & 5.930616 & 6.119624 & 6.554417\\\\\n",
       "\tHSPA6\\_2 & 4.679401 & 4.777950 & 4.360962 & 4.509553 & 4.720435 & 7.669224 & 5.432612 & 4.435121 & 4.860942 & 6.589701 & ...      & 5.071652 & 4.396333 & 5.979429 & 4.177423 & 4.290783 & 5.271843 & 5.841040 & 7.307721 & 6.138064 & 4.855038\\\\\n",
       "\tPAX8\\_3 & 6.798042 & 7.370561 & 7.043800 & 7.132901 & 7.272406 & 6.851993 & 7.215697 & 7.225802 & 7.017084 & 7.035230 & ...      & 6.637921 & 7.564590 & 6.726327 & 7.424036 & 7.026728 & 6.710751 & 7.198889 & 6.996386 & 6.894396 & 7.371354\\\\\n",
       "\tGUCA1A\\_4 & 2.704549 & 2.500655 & 2.644052 & 2.712234 & 2.861128 & 2.913571 & 2.820453 & 2.752378 & 2.886452 & 2.818774 & ...      & 2.918437 & 2.650575 & 2.795106 & 2.576289 & 2.807488 & 2.784839 & 2.746156 & 2.694078 & 3.009329 & 2.856732\\\\\n",
       "\tTHRA\\_5 & 4.544424 & 5.050274 & 4.988216 & 4.862662 & 5.144750 & 4.837291 & 4.871102 & 4.981282 & 4.780484 & 4.604664 & ...      & 6.408416 & 4.846550 & 5.505493 & 5.088999 & 5.112156 & 5.743054 & 5.497159 & 5.444714 & 5.167476 & 5.273593\\\\\n",
       "\tPTPN21\\_6 & 3.734027 & 3.630663 & 3.587355 & 4.006397 & 3.762099 & 3.608655 & 3.754732 & 3.931028 & 3.686961 & 3.656161 & ...      & 3.931349 & 3.784949 & 3.751392 & 3.702852 & 3.803101 & 3.597913 & 3.614316 & 3.799544 & 3.681782 & 3.887242\\\\\n",
       "\\end{tabular}\n"
      ],
      "text/markdown": [
       "\n",
       "| <!--/--> | GSM1254265.CEL | GSM1254267.CEL | GSM1254268.CEL | GSM1254269.CEL | GSM1254270.CEL | GSM1254271.CEL | GSM1254272.CEL | GSM1254273.CEL | GSM1254274.CEL | GSM1254275.CEL | ... | GSM726248.CEL | GSM726249.CEL | GSM726251.CEL | GSM726252.CEL | GSM726253.CEL | GSM726256.CEL | GSM726257.CEL | GSM726258.CEL | GSM726259.CEL | GSM726260.CEL |\n",
       "|---|---|---|---|---|---|---|---|---|---|---|---|---|---|---|---|---|---|---|---|---|---|\n",
       "| RFC2_1 | 7.537840 | 6.800871 | 6.752669 | 5.929756 | 7.353971 | 6.496232 | 6.716364 | 7.407105 | 7.955677 | 6.978522 | ...      | 5.526605 | 7.605745 | 7.701945 | 7.096387 | 6.600813 | 6.563042 | 6.671309 | 5.930616 | 6.119624 | 6.554417 |\n",
       "| HSPA6_2 | 4.679401 | 4.777950 | 4.360962 | 4.509553 | 4.720435 | 7.669224 | 5.432612 | 4.435121 | 4.860942 | 6.589701 | ...      | 5.071652 | 4.396333 | 5.979429 | 4.177423 | 4.290783 | 5.271843 | 5.841040 | 7.307721 | 6.138064 | 4.855038 |\n",
       "| PAX8_3 | 6.798042 | 7.370561 | 7.043800 | 7.132901 | 7.272406 | 6.851993 | 7.215697 | 7.225802 | 7.017084 | 7.035230 | ...      | 6.637921 | 7.564590 | 6.726327 | 7.424036 | 7.026728 | 6.710751 | 7.198889 | 6.996386 | 6.894396 | 7.371354 |\n",
       "| GUCA1A_4 | 2.704549 | 2.500655 | 2.644052 | 2.712234 | 2.861128 | 2.913571 | 2.820453 | 2.752378 | 2.886452 | 2.818774 | ...      | 2.918437 | 2.650575 | 2.795106 | 2.576289 | 2.807488 | 2.784839 | 2.746156 | 2.694078 | 3.009329 | 2.856732 |\n",
       "| THRA_5 | 4.544424 | 5.050274 | 4.988216 | 4.862662 | 5.144750 | 4.837291 | 4.871102 | 4.981282 | 4.780484 | 4.604664 | ...      | 6.408416 | 4.846550 | 5.505493 | 5.088999 | 5.112156 | 5.743054 | 5.497159 | 5.444714 | 5.167476 | 5.273593 |\n",
       "| PTPN21_6 | 3.734027 | 3.630663 | 3.587355 | 4.006397 | 3.762099 | 3.608655 | 3.754732 | 3.931028 | 3.686961 | 3.656161 | ...      | 3.931349 | 3.784949 | 3.751392 | 3.702852 | 3.803101 | 3.597913 | 3.614316 | 3.799544 | 3.681782 | 3.887242 |\n",
       "\n"
      ],
      "text/plain": [
       "         GSM1254265.CEL GSM1254267.CEL GSM1254268.CEL GSM1254269.CEL\n",
       "RFC2_1   7.537840       6.800871       6.752669       5.929756      \n",
       "HSPA6_2  4.679401       4.777950       4.360962       4.509553      \n",
       "PAX8_3   6.798042       7.370561       7.043800       7.132901      \n",
       "GUCA1A_4 2.704549       2.500655       2.644052       2.712234      \n",
       "THRA_5   4.544424       5.050274       4.988216       4.862662      \n",
       "PTPN21_6 3.734027       3.630663       3.587355       4.006397      \n",
       "         GSM1254270.CEL GSM1254271.CEL GSM1254272.CEL GSM1254273.CEL\n",
       "RFC2_1   7.353971       6.496232       6.716364       7.407105      \n",
       "HSPA6_2  4.720435       7.669224       5.432612       4.435121      \n",
       "PAX8_3   7.272406       6.851993       7.215697       7.225802      \n",
       "GUCA1A_4 2.861128       2.913571       2.820453       2.752378      \n",
       "THRA_5   5.144750       4.837291       4.871102       4.981282      \n",
       "PTPN21_6 3.762099       3.608655       3.754732       3.931028      \n",
       "         GSM1254274.CEL GSM1254275.CEL ... GSM726248.CEL GSM726249.CEL\n",
       "RFC2_1   7.955677       6.978522       ... 5.526605      7.605745     \n",
       "HSPA6_2  4.860942       6.589701       ... 5.071652      4.396333     \n",
       "PAX8_3   7.017084       7.035230       ... 6.637921      7.564590     \n",
       "GUCA1A_4 2.886452       2.818774       ... 2.918437      2.650575     \n",
       "THRA_5   4.780484       4.604664       ... 6.408416      4.846550     \n",
       "PTPN21_6 3.686961       3.656161       ... 3.931349      3.784949     \n",
       "         GSM726251.CEL GSM726252.CEL GSM726253.CEL GSM726256.CEL GSM726257.CEL\n",
       "RFC2_1   7.701945      7.096387      6.600813      6.563042      6.671309     \n",
       "HSPA6_2  5.979429      4.177423      4.290783      5.271843      5.841040     \n",
       "PAX8_3   6.726327      7.424036      7.026728      6.710751      7.198889     \n",
       "GUCA1A_4 2.795106      2.576289      2.807488      2.784839      2.746156     \n",
       "THRA_5   5.505493      5.088999      5.112156      5.743054      5.497159     \n",
       "PTPN21_6 3.751392      3.702852      3.803101      3.597913      3.614316     \n",
       "         GSM726258.CEL GSM726259.CEL GSM726260.CEL\n",
       "RFC2_1   5.930616      6.119624      6.554417     \n",
       "HSPA6_2  7.307721      6.138064      4.855038     \n",
       "PAX8_3   6.996386      6.894396      7.371354     \n",
       "GUCA1A_4 2.694078      3.009329      2.856732     \n",
       "THRA_5   5.444714      5.167476      5.273593     \n",
       "PTPN21_6 3.799544      3.681782      3.887242     "
      ]
     },
     "metadata": {},
     "output_type": "display_data"
    }
   ],
   "source": [
    "head(exprs(eset))"
   ]
  },
  {
   "cell_type": "code",
   "execution_count": 58,
   "id": "914a06fe",
   "metadata": {},
   "outputs": [
    {
     "name": "stderr",
     "output_type": "stream",
     "text": [
      "Warning message:\n",
      "\"package 'ggrepel' was built under R version 3.6.3\""
     ]
    }
   ],
   "source": [
    "library(ggplot2)\n",
    "library(ggrepel)"
   ]
  },
  {
   "cell_type": "code",
   "execution_count": 59,
   "id": "7bcb9318",
   "metadata": {},
   "outputs": [],
   "source": [
    "pca <- prcomp(t(mat))"
   ]
  },
  {
   "cell_type": "code",
   "execution_count": 64,
   "id": "05f09caa",
   "metadata": {},
   "outputs": [
    {
     "data": {
      "image/png": "[encoded data removed]",
      "text/plain": [
       "plot without title"
      ]
     },
     "metadata": {},
     "output_type": "display_data"
    }
   ],
   "source": [
    "cbind(pData(eset), pca$x) %>% ggplot(aes(x=PC1, y=PC2, col=FAB)) + geom_point() "
   ]
  },
  {
   "cell_type": "markdown",
   "id": "ca7ba2bd",
   "metadata": {},
   "source": [
    "# DGE"
   ]
  },
  {
   "cell_type": "code",
   "execution_count": 70,
   "id": "5d0607be",
   "metadata": {},
   "outputs": [
    {
     "data": {
      "text/html": [
       "<table>\n",
       "<thead><tr><th></th><th scope=col>FAB</th></tr></thead>\n",
       "<tbody>\n",
       "\t<tr><th scope=row>GSM1254265.CEL</th><td>M2</td></tr>\n",
       "\t<tr><th scope=row>GSM1254267.CEL</th><td>M5</td></tr>\n",
       "\t<tr><th scope=row>GSM1254268.CEL</th><td>M2</td></tr>\n",
       "\t<tr><th scope=row>GSM1254269.CEL</th><td>M1</td></tr>\n",
       "\t<tr><th scope=row>GSM1254270.CEL</th><td>M4</td></tr>\n",
       "\t<tr><th scope=row>GSM1254271.CEL</th><td>M0</td></tr>\n",
       "</tbody>\n",
       "</table>\n"
      ],
      "text/latex": [
       "\\begin{tabular}{r|l}\n",
       "  & FAB\\\\\n",
       "\\hline\n",
       "\tGSM1254265.CEL & M2\\\\\n",
       "\tGSM1254267.CEL & M5\\\\\n",
       "\tGSM1254268.CEL & M2\\\\\n",
       "\tGSM1254269.CEL & M1\\\\\n",
       "\tGSM1254270.CEL & M4\\\\\n",
       "\tGSM1254271.CEL & M0\\\\\n",
       "\\end{tabular}\n"
      ],
      "text/markdown": [
       "\n",
       "| <!--/--> | FAB |\n",
       "|---|---|\n",
       "| GSM1254265.CEL | M2 |\n",
       "| GSM1254267.CEL | M5 |\n",
       "| GSM1254268.CEL | M2 |\n",
       "| GSM1254269.CEL | M1 |\n",
       "| GSM1254270.CEL | M4 |\n",
       "| GSM1254271.CEL | M0 |\n",
       "\n"
      ],
      "text/plain": [
       "               FAB\n",
       "GSM1254265.CEL M2 \n",
       "GSM1254267.CEL M5 \n",
       "GSM1254268.CEL M2 \n",
       "GSM1254269.CEL M1 \n",
       "GSM1254270.CEL M4 \n",
       "GSM1254271.CEL M0 "
      ]
     },
     "metadata": {},
     "output_type": "display_data"
    }
   ],
   "source": [
    "lbl = pData(eset)\n",
    "head(lbl)"
   ]
  },
  {
   "cell_type": "code",
   "execution_count": 72,
   "id": "09d5271e",
   "metadata": {},
   "outputs": [],
   "source": [
    "m0.lbl <- lbl[lbl$FAB %in% c(\"CTRL\", \"M0\"),]"
   ]
  },
  {
   "cell_type": "code",
   "execution_count": 76,
   "id": "405b9164",
   "metadata": {},
   "outputs": [
    {
     "data": {
      "text/html": [
       "<ol class=list-inline>\n",
       "\t<li>M0</li>\n",
       "\t<li>M0</li>\n",
       "\t<li>M0</li>\n",
       "\t<li>M0</li>\n",
       "\t<li>M0</li>\n",
       "\t<li>M0</li>\n",
       "</ol>\n",
       "\n",
       "<details>\n",
       "\t<summary style=display:list-item;cursor:pointer>\n",
       "\t\t<strong>Levels</strong>:\n",
       "\t</summary>\n",
       "\t<ol class=list-inline>\n",
       "\t\t<li>'CTRL'</li>\n",
       "\t\t<li>'M0'</li>\n",
       "\t\t<li>'M1'</li>\n",
       "\t\t<li>'M2'</li>\n",
       "\t\t<li>'M3'</li>\n",
       "\t\t<li>'M4'</li>\n",
       "\t\t<li>'M5'</li>\n",
       "\t</ol>\n",
       "</details>"
      ],
      "text/latex": [
       "\\begin{enumerate*}\n",
       "\\item M0\n",
       "\\item M0\n",
       "\\item M0\n",
       "\\item M0\n",
       "\\item M0\n",
       "\\item M0\n",
       "\\end{enumerate*}\n",
       "\n",
       "\\emph{Levels}: \\begin{enumerate*}\n",
       "\\item 'CTRL'\n",
       "\\item 'M0'\n",
       "\\item 'M1'\n",
       "\\item 'M2'\n",
       "\\item 'M3'\n",
       "\\item 'M4'\n",
       "\\item 'M5'\n",
       "\\end{enumerate*}\n"
      ],
      "text/markdown": [
       "1. M0\n",
       "2. M0\n",
       "3. M0\n",
       "4. M0\n",
       "5. M0\n",
       "6. M0\n",
       "\n",
       "\n",
       "\n",
       "**Levels**: 1. 'CTRL'\n",
       "2. 'M0'\n",
       "3. 'M1'\n",
       "4. 'M2'\n",
       "5. 'M3'\n",
       "6. 'M4'\n",
       "7. 'M5'\n",
       "\n",
       "\n"
      ],
      "text/plain": [
       "[1] M0 M0 M0 M0 M0 M0\n",
       "Levels: CTRL M0 M1 M2 M3 M4 M5"
      ]
     },
     "metadata": {},
     "output_type": "display_data"
    }
   ],
   "source": []
  },
  {
   "cell_type": "code",
   "execution_count": null,
   "id": "ed22f587",
   "metadata": {},
   "outputs": [],
   "source": [
    "colnames(design) <- c(\"\")"
   ]
  }
 ],
 "metadata": {
  "kernelspec": {
   "display_name": "R",
   "language": "R",
   "name": "ir"
  },
  "language_info": {
   "codemirror_mode": "r",
   "file_extension": ".r",
   "mimetype": "text/x-r-source",
   "name": "R",
   "pygments_lexer": "r",
   "version": "3.6.1"
  }
 },
 "nbformat": 4,
 "nbformat_minor": 5
}
