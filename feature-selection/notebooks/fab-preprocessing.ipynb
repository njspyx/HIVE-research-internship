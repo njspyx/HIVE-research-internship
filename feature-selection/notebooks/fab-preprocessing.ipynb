{
 "cells": [
  {
   "cell_type": "code",
   "execution_count": 1,
   "id": "4fcf6037",
   "metadata": {
    "_cell_guid": "b1076dfc-b9ad-4769-8c92-a6c4dae69d19",
    "_uuid": "8f2839f25d086af736a60e9eeb907d3b93b6e0e5",
    "execution": {
     "iopub.execute_input": "2021-08-28T05:31:44.055357Z",
     "iopub.status.busy": "2021-08-28T05:31:44.052782Z",
     "iopub.status.idle": "2021-08-28T05:31:45.377820Z",
     "shell.execute_reply": "2021-08-28T05:31:45.376550Z"
    },
    "papermill": {
     "duration": 1.34505,
     "end_time": "2021-08-28T05:31:45.378001",
     "exception": false,
     "start_time": "2021-08-28T05:31:44.032951",
     "status": "completed"
    },
    "tags": []
   },
   "outputs": [
    {
     "name": "stderr",
     "output_type": "stream",
     "text": [
      "── \u001b[1mAttaching packages\u001b[22m ─────────────────────────────────────── tidyverse 1.3.1 ──\n",
      "\n",
      "\u001b[32m✔\u001b[39m \u001b[34mggplot2\u001b[39m 3.3.4     \u001b[32m✔\u001b[39m \u001b[34mpurrr  \u001b[39m 0.3.4\n",
      "\u001b[32m✔\u001b[39m \u001b[34mtibble \u001b[39m 3.1.2     \u001b[32m✔\u001b[39m \u001b[34mdplyr  \u001b[39m 1.0.7\n",
      "\u001b[32m✔\u001b[39m \u001b[34mtidyr  \u001b[39m 1.1.3     \u001b[32m✔\u001b[39m \u001b[34mstringr\u001b[39m 1.4.0\n",
      "\u001b[32m✔\u001b[39m \u001b[34mreadr  \u001b[39m 1.4.0     \u001b[32m✔\u001b[39m \u001b[34mforcats\u001b[39m 0.5.1\n",
      "\n",
      "── \u001b[1mConflicts\u001b[22m ────────────────────────────────────────── tidyverse_conflicts() ──\n",
      "\u001b[31m✖\u001b[39m \u001b[34mdplyr\u001b[39m::\u001b[32mfilter()\u001b[39m masks \u001b[34mstats\u001b[39m::filter()\n",
      "\u001b[31m✖\u001b[39m \u001b[34mdplyr\u001b[39m::\u001b[32mlag()\u001b[39m    masks \u001b[34mstats\u001b[39m::lag()\n",
      "\n"
     ]
    }
   ],
   "source": [
    "library(tidyverse)\n",
    "library(dplyr)"
   ]
  },
  {
   "cell_type": "code",
   "execution_count": 2,
   "id": "01c4d74f",
   "metadata": {
    "execution": {
     "iopub.execute_input": "2021-08-28T05:31:45.443389Z",
     "iopub.status.busy": "2021-08-28T05:31:45.412963Z",
     "iopub.status.idle": "2021-08-28T05:34:55.436596Z",
     "shell.execute_reply": "2021-08-28T05:34:55.437097Z"
    },
    "papermill": {
     "duration": 190.043591,
     "end_time": "2021-08-28T05:34:55.437271",
     "exception": false,
     "start_time": "2021-08-28T05:31:45.393680",
     "status": "completed"
    },
    "tags": []
   },
   "outputs": [
    {
     "name": "stderr",
     "output_type": "stream",
     "text": [
      "'getOption(\"repos\")' replaces Bioconductor standard repositories, see\n",
      "'?repositories' for details\n",
      "\n",
      "replacement repositories:\n",
      "    CRAN: http://cran.rstudio.com/\n",
      "\n",
      "\n",
      "Bioconductor version 3.12 (BiocManager 1.30.15), R 4.0.5 (2021-03-31)\n",
      "\n",
      "Installing package(s) 'Biobase'\n",
      "\n",
      "Old packages: 'ade4', 'adegenet', 'admisc', 'afex', 'agricolae', 'akima',\n",
      "  'Amelia', 'AMR', 'aqp', 'arrow', 'arsenal', 'arules', 'arulesViz',\n",
      "  'autocogs', 'autostsm', 'baguette', 'bayesplot', 'bayestestR', 'bbmle',\n",
      "  'beeswarm', 'bestNormalize', 'bibliometrix', 'biclust', 'bigrquery',\n",
      "  'BiocManager', 'biotools', 'biwavelet', 'blob', 'BMA', 'bnstruct',\n",
      "  'bookdown', 'brms', 'broom', 'broom.mixed', 'bslib', 'bsts', 'butcher',\n",
      "  'C50', 'cachem', 'car', 'causaleffect', 'CausalImpact', 'causalweight',\n",
      "  'cdata', 'circlize', 'cli', 'clifro', 'clock', 'ClusterR', 'clustMixType',\n",
      "  'colorspace', 'compositions', 'coronavirus', 'corrplot', 'countrycode',\n",
      "  'cpp11', 'credentials', 'Cubist', 'cvms', 'd3r', 'DALEX', 'datamods',\n",
      "  'DEoptimR', 'DescTools', 'devtools', 'discrim', 'distr6', 'dLagM', 'dlookr',\n",
      "  'dm', 'doBy', 'dotwhisker', 'DoubleML', 'e1071', 'earth', 'Ecfun',\n",
      "  'effectsize', 'emmeans', 'english', 'ergm', 'ergm.count', 'esquisse',\n",
      "  'explore', 'fanplot', 'fastai', 'fastcluster', 'fastmatch', 'feasts',\n",
      "  'ffscrapr', 'fields', 'finalfit', 'finetune', 'fitdistrplus', 'fixest',\n",
      "  'flextable', 'forestError', 'forestmangr', 'forestplot', 'FSA', 'furrr',\n",
      "  'future', 'future.apply', 'FuzzyR', 'GADMTools', 'gargle', 'GDAtools',\n",
      "  'geobr', 'gert', 'GGally', 'ggdist', 'ggeffects', 'ggfortify', 'gghighlight',\n",
      "  'ggimage', 'ggiraph', 'ggnetwork', 'ggplot2', 'ggplotify', 'ggpmisc',\n",
      "  'ggprism', 'ggsignif', 'ggstatsplot', 'ggtern', 'ggvenn', 'glmmTMB',\n",
      "  'glmnet', 'Gmisc', 'googledrive', 'googlesheets4', 'greybox', 'grf',\n",
      "  'groupdata2', 'grpreg', 'gss', 'gt', 'gtools', 'gtsummary', 'gutenbergr',\n",
      "  'h2o', 'h2o4gpu', 'hardhat', 'haven', 'hdi', 'HelpersMG', 'htmlTable',\n",
      "  'htmltools', 'hts', 'httpuv', 'huge', 'ibdreg', 'ijtiff', 'infer', 'inferr',\n",
      "  'inline', 'insight', 'interactions', 'isoband', 'isotree', 'ivreg', 'jagsUI',\n",
      "  'jmv', 'jmvcore', 'jpeg', 'keras', 'KFAS', 'kit', 'koRpus', 'ks', 'lamW',\n",
      "  'landmap', 'LaplacesDemon', 'later', 'lavaan', 'lcmm', 'leafem', 'leaflet',\n",
      "  'leafpop', 'leiden', 'lessR', 'lfe', 'lightgbm', 'littler', 'lme4',\n",
      "  'LogicReg', 'lomb', 'lwgeom', 'maditr', 'magick', 'manipulateWidget',\n",
      "  'mapview', 'markovchain', 'matchingR', 'MatchIt', 'matlib', 'Matrix',\n",
      "  'matrixcalc', 'matrixStats', 'maxLik', 'mc2d', 'meta', 'metafor', 'mgcv',\n",
      "  'mgm', 'mgsub', 'minerva', 'mirt', 'mlflow', 'mlr3', 'mlr3data',\n",
      "  'mlr3filters', 'mlr3learners', 'mlr3misc', 'mlr3pipelines', 'mlr3verse',\n",
      "  'mlr3viz', 'modeldata', 'modeltime', 'moderndive', 'MTS', 'multicool', 'MVN',\n",
      "  'mvoutlier', 'mvtnorm', 'nasapower', 'ndtv', 'network', 'networkDynamic',\n",
      "  'NetworkToolbox', 'nimble', 'nomclust', 'np', 'officer', 'OpenImageR',\n",
      "  'openintro', 'OpenMx', 'openxlsx', 'opera', 'optimx', 'osmdata',\n",
      "  'osmextract', 'otrimle', 'packrat', 'pairwiseComparisons', 'paletteer',\n",
      "  'pander', 'parallelly', 'parallelMap', 'parameters', 'parsnip', 'party',\n",
      "  'partykit', 'patchwork', 'pegas', 'performance', 'pillar', 'pivottabler',\n",
      "  'plot3D', 'plotly', 'plotmo', 'policytree', 'popsom', 'precrec',\n",
      "  'predictmeans', 'priceR', 'progressr', 'protolite', 'pryr', 'psych',\n",
      "  'psychTools', 'QCA', 'qicharts2', 'qs', 'qtlcharts', 'Quandl', 'quanteda',\n",
      "  'quantreg', 'R2jags', 'R6', 'radiant', 'radiant.basics', 'ragg',\n",
      "  'randomForestSRC', 'ranger', 'rasterVis', 'rayimage',\n",
      "  'rBayesianOptimization', 'rbibutils', 'Rchoice', 'rcompanion', 'Rcpp',\n",
      "  'RcppAnnoy', 'RcppArmadillo', 'RcppGSL', 'RCurl', 'Rdpack', 'readr',\n",
      "  'readstata13', 'rEDM', 'refund', 'regsem', 'remotes', 'reprex', 'Rfast',\n",
      "  'rgbif', 'rgl', 'rio', 'RJSONIO', 'rmarkdown', 'RMySQL', 'robustbase',\n",
      "  'rootSolve', 'ROSE', 'rpart.plot', 'rpf', 'RPostgres', 'RPostgreSQL',\n",
      "  'rqdatatable', 'rquery', 'rsconnect', 'rscorecard', 'RSNNS', 'RSQLite',\n",
      "  'rstac', 'Rttf2pt1', 'rversions', 'rvest', 'sandwich', 'sarima', 'scorecard',\n",
      "  'scrubr', 'seasonal', 'see', 'seewave', 'semTools', 'seqinr', 'seriation',\n",
      "  'servr', 'set6', 'Seurat', 'SeuratObject', 'sf', 'shape', 'showtext',\n",
      "  'sidrar', 'signal', 'sigr', 'SimDesign', 'SixSigma', 'sjPlot', 'slider',\n",
      "  'smacof', 'smcfcs', 'smooth', 'solitude', 'spacetime', 'spam', 'sparklyr',\n",
      "  'spatstat', 'spatstat.core', 'spatstat.geom', 'spatstat.linnet',\n",
      "  'spatstat.utils', 'spData', 'spdep', 'stacks', 'stars', 'statnet.common',\n",
      "  'stats19', 'statsExpressions', 'stringdist', 'stringfish', 'stringi',\n",
      "  'styler', 'summarytools', 'survey', 'survival', 'swfscMisc', 'sysfonts',\n",
      "  'table1', 'tableone', 'tabnet', 'tau', 'tensorflow', 'tergm', 'terra',\n",
      "  'testthat', 'textmineR', 'textrecipes', 'textshape', 'textshaping',\n",
      "  'tfautograph', 'tfestimators', 'tfprobability', 'themis', 'tibble',\n",
      "  'tidybayes', 'tidycensus', 'tidytable', 'tigris', 'timereg', 'tinytex',\n",
      "  'tmap', 'torch', 'torchvision', 'TraMineR', 'tree', 'treemap', 'tsbox',\n",
      "  'tufte', 'tune', 'tuneR', 'tzdb', 'udpipe', 'uklr', 'unix', 'unmarked',\n",
      "  'usdata', 'utf8', 'VIM', 'vioplot', 'vroom', 'vtable', 'vtreat', 'waldo',\n",
      "  'weights', 'wellknown', 'widyr', 'wk', 'wooldridge', 'word2vec', 'workflows',\n",
      "  'workflowsets', 'wrapr', 'WRS2', 'wru', 'x13binary', 'xfun', 'XML',\n",
      "  'xplorerr', 'zip', 'boot', 'class', 'cluster', 'KernSmooth', 'lattice',\n",
      "  'MASS', 'nnet', 'spatial'\n",
      "\n",
      "'getOption(\"repos\")' replaces Bioconductor standard repositories, see\n",
      "'?repositories' for details\n",
      "\n",
      "replacement repositories:\n",
      "    CRAN: http://cran.rstudio.com/\n",
      "\n",
      "\n",
      "Bioconductor version 3.12 (BiocManager 1.30.15), R 4.0.5 (2021-03-31)\n",
      "\n",
      "Installing package(s) 'biomaRt'\n",
      "\n",
      "also installing the dependencies ‘IRanges’, ‘S4Vectors’, ‘AnnotationDbi’, ‘BiocFileCache’\n",
      "\n",
      "\n",
      "Old packages: 'ade4', 'adegenet', 'admisc', 'afex', 'agricolae', 'akima',\n",
      "  'Amelia', 'AMR', 'aqp', 'arrow', 'arsenal', 'arules', 'arulesViz',\n",
      "  'autocogs', 'autostsm', 'baguette', 'bayesplot', 'bayestestR', 'bbmle',\n",
      "  'beeswarm', 'bestNormalize', 'bibliometrix', 'biclust', 'bigrquery',\n",
      "  'BiocManager', 'biotools', 'biwavelet', 'blob', 'BMA', 'bnstruct',\n",
      "  'bookdown', 'brms', 'broom', 'broom.mixed', 'bslib', 'bsts', 'butcher',\n",
      "  'C50', 'cachem', 'car', 'causaleffect', 'CausalImpact', 'causalweight',\n",
      "  'cdata', 'circlize', 'cli', 'clifro', 'clock', 'ClusterR', 'clustMixType',\n",
      "  'colorspace', 'compositions', 'coronavirus', 'corrplot', 'countrycode',\n",
      "  'cpp11', 'credentials', 'Cubist', 'cvms', 'd3r', 'DALEX', 'datamods',\n",
      "  'DEoptimR', 'DescTools', 'devtools', 'discrim', 'distr6', 'dLagM', 'dlookr',\n",
      "  'dm', 'doBy', 'dotwhisker', 'DoubleML', 'e1071', 'earth', 'Ecfun',\n",
      "  'effectsize', 'emmeans', 'english', 'ergm', 'ergm.count', 'esquisse',\n",
      "  'explore', 'fanplot', 'fastai', 'fastcluster', 'fastmatch', 'feasts',\n",
      "  'ffscrapr', 'fields', 'finalfit', 'finetune', 'fitdistrplus', 'fixest',\n",
      "  'flextable', 'forestError', 'forestmangr', 'forestplot', 'FSA', 'furrr',\n",
      "  'future', 'future.apply', 'FuzzyR', 'GADMTools', 'gargle', 'GDAtools',\n",
      "  'geobr', 'gert', 'GGally', 'ggdist', 'ggeffects', 'ggfortify', 'gghighlight',\n",
      "  'ggimage', 'ggiraph', 'ggnetwork', 'ggplot2', 'ggplotify', 'ggpmisc',\n",
      "  'ggprism', 'ggsignif', 'ggstatsplot', 'ggtern', 'ggvenn', 'glmmTMB',\n",
      "  'glmnet', 'Gmisc', 'googledrive', 'googlesheets4', 'greybox', 'grf',\n",
      "  'groupdata2', 'grpreg', 'gss', 'gt', 'gtools', 'gtsummary', 'gutenbergr',\n",
      "  'h2o', 'h2o4gpu', 'hardhat', 'haven', 'hdi', 'HelpersMG', 'htmlTable',\n",
      "  'htmltools', 'hts', 'httpuv', 'huge', 'ibdreg', 'ijtiff', 'infer', 'inferr',\n",
      "  'inline', 'insight', 'interactions', 'isoband', 'isotree', 'ivreg', 'jagsUI',\n",
      "  'jmv', 'jmvcore', 'jpeg', 'keras', 'KFAS', 'kit', 'koRpus', 'ks', 'lamW',\n",
      "  'landmap', 'LaplacesDemon', 'later', 'lavaan', 'lcmm', 'leafem', 'leaflet',\n",
      "  'leafpop', 'leiden', 'lessR', 'lfe', 'lightgbm', 'littler', 'lme4',\n",
      "  'LogicReg', 'lomb', 'lwgeom', 'maditr', 'magick', 'manipulateWidget',\n",
      "  'mapview', 'markovchain', 'matchingR', 'MatchIt', 'matlib', 'Matrix',\n",
      "  'matrixcalc', 'matrixStats', 'maxLik', 'mc2d', 'meta', 'metafor', 'mgcv',\n",
      "  'mgm', 'mgsub', 'minerva', 'mirt', 'mlflow', 'mlr3', 'mlr3data',\n",
      "  'mlr3filters', 'mlr3learners', 'mlr3misc', 'mlr3pipelines', 'mlr3verse',\n",
      "  'mlr3viz', 'modeldata', 'modeltime', 'moderndive', 'MTS', 'multicool', 'MVN',\n",
      "  'mvoutlier', 'mvtnorm', 'nasapower', 'ndtv', 'network', 'networkDynamic',\n",
      "  'NetworkToolbox', 'nimble', 'nomclust', 'np', 'officer', 'OpenImageR',\n",
      "  'openintro', 'OpenMx', 'openxlsx', 'opera', 'optimx', 'osmdata',\n",
      "  'osmextract', 'otrimle', 'packrat', 'pairwiseComparisons', 'paletteer',\n",
      "  'pander', 'parallelly', 'parallelMap', 'parameters', 'parsnip', 'party',\n",
      "  'partykit', 'patchwork', 'pegas', 'performance', 'pillar', 'pivottabler',\n",
      "  'plot3D', 'plotly', 'plotmo', 'policytree', 'popsom', 'precrec',\n",
      "  'predictmeans', 'priceR', 'progressr', 'protolite', 'pryr', 'psych',\n",
      "  'psychTools', 'QCA', 'qicharts2', 'qs', 'qtlcharts', 'Quandl', 'quanteda',\n",
      "  'quantreg', 'R2jags', 'R6', 'radiant', 'radiant.basics', 'ragg',\n",
      "  'randomForestSRC', 'ranger', 'rasterVis', 'rayimage',\n",
      "  'rBayesianOptimization', 'rbibutils', 'Rchoice', 'rcompanion', 'Rcpp',\n",
      "  'RcppAnnoy', 'RcppArmadillo', 'RcppGSL', 'RCurl', 'Rdpack', 'readr',\n",
      "  'readstata13', 'rEDM', 'refund', 'regsem', 'remotes', 'reprex', 'Rfast',\n",
      "  'rgbif', 'rgl', 'rio', 'RJSONIO', 'rmarkdown', 'RMySQL', 'robustbase',\n",
      "  'rootSolve', 'ROSE', 'rpart.plot', 'rpf', 'RPostgres', 'RPostgreSQL',\n",
      "  'rqdatatable', 'rquery', 'rsconnect', 'rscorecard', 'RSNNS', 'RSQLite',\n",
      "  'rstac', 'Rttf2pt1', 'rversions', 'rvest', 'sandwich', 'sarima', 'scorecard',\n",
      "  'scrubr', 'seasonal', 'see', 'seewave', 'semTools', 'seqinr', 'seriation',\n",
      "  'servr', 'set6', 'Seurat', 'SeuratObject', 'sf', 'shape', 'showtext',\n",
      "  'sidrar', 'signal', 'sigr', 'SimDesign', 'SixSigma', 'sjPlot', 'slider',\n",
      "  'smacof', 'smcfcs', 'smooth', 'solitude', 'spacetime', 'spam', 'sparklyr',\n",
      "  'spatstat', 'spatstat.core', 'spatstat.geom', 'spatstat.linnet',\n",
      "  'spatstat.utils', 'spData', 'spdep', 'stacks', 'stars', 'statnet.common',\n",
      "  'stats19', 'statsExpressions', 'stringdist', 'stringfish', 'stringi',\n",
      "  'styler', 'summarytools', 'survey', 'survival', 'swfscMisc', 'sysfonts',\n",
      "  'table1', 'tableone', 'tabnet', 'tau', 'tensorflow', 'tergm', 'terra',\n",
      "  'testthat', 'textmineR', 'textrecipes', 'textshape', 'textshaping',\n",
      "  'tfautograph', 'tfestimators', 'tfprobability', 'themis', 'tibble',\n",
      "  'tidybayes', 'tidycensus', 'tidytable', 'tigris', 'timereg', 'tinytex',\n",
      "  'tmap', 'torch', 'torchvision', 'TraMineR', 'tree', 'treemap', 'tsbox',\n",
      "  'tufte', 'tune', 'tuneR', 'tzdb', 'udpipe', 'uklr', 'unix', 'unmarked',\n",
      "  'usdata', 'utf8', 'VIM', 'vioplot', 'vroom', 'vtable', 'vtreat', 'waldo',\n",
      "  'weights', 'wellknown', 'widyr', 'wk', 'wooldridge', 'word2vec', 'workflows',\n",
      "  'workflowsets', 'wrapr', 'WRS2', 'wru', 'x13binary', 'xfun', 'XML',\n",
      "  'xplorerr', 'zip', 'boot', 'class', 'cluster', 'KernSmooth', 'lattice',\n",
      "  'MASS', 'nnet', 'spatial'\n",
      "\n"
     ]
    }
   ],
   "source": [
    "BiocManager::install(\"Biobase\")\n",
    "BiocManager::install(\"biomaRt\")"
   ]
  },
  {
   "cell_type": "code",
   "execution_count": 3,
   "id": "7ab16e50",
   "metadata": {
    "execution": {
     "iopub.execute_input": "2021-08-28T05:34:55.474775Z",
     "iopub.status.busy": "2021-08-28T05:34:55.473425Z",
     "iopub.status.idle": "2021-08-28T05:35:00.016010Z",
     "shell.execute_reply": "2021-08-28T05:35:00.014785Z"
    },
    "papermill": {
     "duration": 4.562673,
     "end_time": "2021-08-28T05:35:00.016167",
     "exception": false,
     "start_time": "2021-08-28T05:34:55.453494",
     "status": "completed"
    },
    "tags": []
   },
   "outputs": [
    {
     "name": "stderr",
     "output_type": "stream",
     "text": [
      "Loading required package: BiocGenerics\n",
      "\n",
      "Loading required package: parallel\n",
      "\n",
      "\n",
      "Attaching package: ‘BiocGenerics’\n",
      "\n",
      "\n",
      "The following objects are masked from ‘package:parallel’:\n",
      "\n",
      "    clusterApply, clusterApplyLB, clusterCall, clusterEvalQ,\n",
      "    clusterExport, clusterMap, parApply, parCapply, parLapply,\n",
      "    parLapplyLB, parRapply, parSapply, parSapplyLB\n",
      "\n",
      "\n",
      "The following objects are masked from ‘package:dplyr’:\n",
      "\n",
      "    combine, intersect, setdiff, union\n",
      "\n",
      "\n",
      "The following objects are masked from ‘package:stats’:\n",
      "\n",
      "    IQR, mad, sd, var, xtabs\n",
      "\n",
      "\n",
      "The following objects are masked from ‘package:base’:\n",
      "\n",
      "    anyDuplicated, append, as.data.frame, basename, cbind, colnames,\n",
      "    dirname, do.call, duplicated, eval, evalq, Filter, Find, get, grep,\n",
      "    grepl, intersect, is.unsorted, lapply, Map, mapply, match, mget,\n",
      "    order, paste, pmax, pmax.int, pmin, pmin.int, Position, rank,\n",
      "    rbind, Reduce, rownames, sapply, setdiff, sort, table, tapply,\n",
      "    union, unique, unsplit, which.max, which.min\n",
      "\n",
      "\n",
      "Welcome to Bioconductor\n",
      "\n",
      "    Vignettes contain introductory material; view with\n",
      "    'browseVignettes()'. To cite Bioconductor, see\n",
      "    'citation(\"Biobase\")', and for packages 'citation(\"pkgname\")'.\n",
      "\n",
      "\n",
      "\n",
      "Attaching package: ‘Biobase’\n",
      "\n",
      "\n",
      "The following object is masked from ‘package:httr’:\n",
      "\n",
      "    content\n",
      "\n",
      "\n"
     ]
    }
   ],
   "source": [
    "library(Biobase)\n",
    "library(biomaRt)"
   ]
  },
  {
   "cell_type": "markdown",
   "id": "f81b4d50",
   "metadata": {
    "papermill": {
     "duration": 0.017901,
     "end_time": "2021-08-28T05:35:00.052833",
     "exception": false,
     "start_time": "2021-08-28T05:35:00.034932",
     "status": "completed"
    },
    "tags": []
   },
   "source": [
    "# Mapping Gene Symbols"
   ]
  },
  {
   "cell_type": "code",
   "execution_count": 4,
   "id": "f51089e4",
   "metadata": {
    "execution": {
     "iopub.execute_input": "2021-08-28T05:35:00.094725Z",
     "iopub.status.busy": "2021-08-28T05:35:00.092894Z",
     "iopub.status.idle": "2021-08-28T05:36:54.554753Z",
     "shell.execute_reply": "2021-08-28T05:36:54.553676Z"
    },
    "papermill": {
     "duration": 114.484204,
     "end_time": "2021-08-28T05:36:54.554919",
     "exception": false,
     "start_time": "2021-08-28T05:35:00.070715",
     "status": "completed"
    },
    "tags": []
   },
   "outputs": [],
   "source": [
    "expr.mat <- read.csv(\"../input/aml-fab/GSE147515_FAB.csv\")"
   ]
  },
  {
   "cell_type": "code",
   "execution_count": 5,
   "id": "179e8a3a",
   "metadata": {
    "execution": {
     "iopub.execute_input": "2021-08-28T05:36:54.599658Z",
     "iopub.status.busy": "2021-08-28T05:36:54.598044Z",
     "iopub.status.idle": "2021-08-28T05:36:54.675991Z",
     "shell.execute_reply": "2021-08-28T05:36:54.674576Z"
    },
    "papermill": {
     "duration": 0.101908,
     "end_time": "2021-08-28T05:36:54.676139",
     "exception": false,
     "start_time": "2021-08-28T05:36:54.574231",
     "status": "completed"
    },
    "tags": []
   },
   "outputs": [
    {
     "data": {
      "text/html": [
       "<table class=\"dataframe\">\n",
       "<caption>A data.frame: 6 × 466</caption>\n",
       "<thead>\n",
       "\t<tr><th></th><th scope=col>X</th><th scope=col>ID</th><th scope=col>GSM1254265.CEL</th><th scope=col>GSM1254267.CEL</th><th scope=col>GSM1254268.CEL</th><th scope=col>GSM1254269.CEL</th><th scope=col>GSM1254270.CEL</th><th scope=col>GSM1254271.CEL</th><th scope=col>GSM1254272.CEL</th><th scope=col>GSM1254273.CEL</th><th scope=col>⋯</th><th scope=col>GSM726248.CEL</th><th scope=col>GSM726249.CEL</th><th scope=col>GSM726251.CEL</th><th scope=col>GSM726252.CEL</th><th scope=col>GSM726253.CEL</th><th scope=col>GSM726256.CEL</th><th scope=col>GSM726257.CEL</th><th scope=col>GSM726258.CEL</th><th scope=col>GSM726259.CEL</th><th scope=col>GSM726260.CEL</th></tr>\n",
       "\t<tr><th></th><th scope=col>&lt;int&gt;</th><th scope=col>&lt;chr&gt;</th><th scope=col>&lt;dbl&gt;</th><th scope=col>&lt;dbl&gt;</th><th scope=col>&lt;dbl&gt;</th><th scope=col>&lt;dbl&gt;</th><th scope=col>&lt;dbl&gt;</th><th scope=col>&lt;dbl&gt;</th><th scope=col>&lt;dbl&gt;</th><th scope=col>&lt;dbl&gt;</th><th scope=col>⋯</th><th scope=col>&lt;dbl&gt;</th><th scope=col>&lt;dbl&gt;</th><th scope=col>&lt;dbl&gt;</th><th scope=col>&lt;dbl&gt;</th><th scope=col>&lt;dbl&gt;</th><th scope=col>&lt;dbl&gt;</th><th scope=col>&lt;dbl&gt;</th><th scope=col>&lt;dbl&gt;</th><th scope=col>&lt;dbl&gt;</th><th scope=col>&lt;dbl&gt;</th></tr>\n",
       "</thead>\n",
       "<tbody>\n",
       "\t<tr><th scope=row>1</th><td>1</td><td>1053_at  </td><td>7.537840</td><td>6.800871</td><td>6.752669</td><td>5.929756</td><td>7.353971</td><td>6.496232</td><td>6.716364</td><td>7.407105</td><td>⋯</td><td>5.526605</td><td>7.605745</td><td>7.701945</td><td>7.096387</td><td>6.600813</td><td>6.563042</td><td>6.671309</td><td>5.930616</td><td>6.119624</td><td>6.554417</td></tr>\n",
       "\t<tr><th scope=row>2</th><td>2</td><td>117_at   </td><td>4.679401</td><td>4.777950</td><td>4.360962</td><td>4.509553</td><td>4.720435</td><td>7.669224</td><td>5.432612</td><td>4.435121</td><td>⋯</td><td>5.071652</td><td>4.396333</td><td>5.979429</td><td>4.177423</td><td>4.290783</td><td>5.271843</td><td>5.841040</td><td>7.307721</td><td>6.138064</td><td>4.855038</td></tr>\n",
       "\t<tr><th scope=row>3</th><td>3</td><td>121_at   </td><td>6.798042</td><td>7.370561</td><td>7.043800</td><td>7.132901</td><td>7.272406</td><td>6.851993</td><td>7.215697</td><td>7.225802</td><td>⋯</td><td>6.637921</td><td>7.564590</td><td>6.726327</td><td>7.424036</td><td>7.026728</td><td>6.710751</td><td>7.198889</td><td>6.996386</td><td>6.894396</td><td>7.371354</td></tr>\n",
       "\t<tr><th scope=row>4</th><td>4</td><td>1255_g_at</td><td>2.704549</td><td>2.500655</td><td>2.644052</td><td>2.712234</td><td>2.861128</td><td>2.913571</td><td>2.820453</td><td>2.752378</td><td>⋯</td><td>2.918437</td><td>2.650575</td><td>2.795106</td><td>2.576289</td><td>2.807488</td><td>2.784839</td><td>2.746156</td><td>2.694078</td><td>3.009329</td><td>2.856732</td></tr>\n",
       "\t<tr><th scope=row>5</th><td>5</td><td>1316_at  </td><td>4.544424</td><td>5.050274</td><td>4.988216</td><td>4.862662</td><td>5.144750</td><td>4.837291</td><td>4.871102</td><td>4.981282</td><td>⋯</td><td>6.408416</td><td>4.846550</td><td>5.505493</td><td>5.088999</td><td>5.112156</td><td>5.743054</td><td>5.497159</td><td>5.444714</td><td>5.167476</td><td>5.273593</td></tr>\n",
       "\t<tr><th scope=row>6</th><td>6</td><td>1320_at  </td><td>3.734027</td><td>3.630663</td><td>3.587355</td><td>4.006397</td><td>3.762099</td><td>3.608655</td><td>3.754732</td><td>3.931028</td><td>⋯</td><td>3.931349</td><td>3.784949</td><td>3.751392</td><td>3.702852</td><td>3.803101</td><td>3.597913</td><td>3.614316</td><td>3.799544</td><td>3.681782</td><td>3.887242</td></tr>\n",
       "</tbody>\n",
       "</table>\n"
      ],
      "text/latex": [
       "A data.frame: 6 × 466\n",
       "\\begin{tabular}{r|lllllllllllllllllllll}\n",
       "  & X & ID & GSM1254265.CEL & GSM1254267.CEL & GSM1254268.CEL & GSM1254269.CEL & GSM1254270.CEL & GSM1254271.CEL & GSM1254272.CEL & GSM1254273.CEL & ⋯ & GSM726248.CEL & GSM726249.CEL & GSM726251.CEL & GSM726252.CEL & GSM726253.CEL & GSM726256.CEL & GSM726257.CEL & GSM726258.CEL & GSM726259.CEL & GSM726260.CEL\\\\\n",
       "  & <int> & <chr> & <dbl> & <dbl> & <dbl> & <dbl> & <dbl> & <dbl> & <dbl> & <dbl> & ⋯ & <dbl> & <dbl> & <dbl> & <dbl> & <dbl> & <dbl> & <dbl> & <dbl> & <dbl> & <dbl>\\\\\n",
       "\\hline\n",
       "\t1 & 1 & 1053\\_at   & 7.537840 & 6.800871 & 6.752669 & 5.929756 & 7.353971 & 6.496232 & 6.716364 & 7.407105 & ⋯ & 5.526605 & 7.605745 & 7.701945 & 7.096387 & 6.600813 & 6.563042 & 6.671309 & 5.930616 & 6.119624 & 6.554417\\\\\n",
       "\t2 & 2 & 117\\_at    & 4.679401 & 4.777950 & 4.360962 & 4.509553 & 4.720435 & 7.669224 & 5.432612 & 4.435121 & ⋯ & 5.071652 & 4.396333 & 5.979429 & 4.177423 & 4.290783 & 5.271843 & 5.841040 & 7.307721 & 6.138064 & 4.855038\\\\\n",
       "\t3 & 3 & 121\\_at    & 6.798042 & 7.370561 & 7.043800 & 7.132901 & 7.272406 & 6.851993 & 7.215697 & 7.225802 & ⋯ & 6.637921 & 7.564590 & 6.726327 & 7.424036 & 7.026728 & 6.710751 & 7.198889 & 6.996386 & 6.894396 & 7.371354\\\\\n",
       "\t4 & 4 & 1255\\_g\\_at & 2.704549 & 2.500655 & 2.644052 & 2.712234 & 2.861128 & 2.913571 & 2.820453 & 2.752378 & ⋯ & 2.918437 & 2.650575 & 2.795106 & 2.576289 & 2.807488 & 2.784839 & 2.746156 & 2.694078 & 3.009329 & 2.856732\\\\\n",
       "\t5 & 5 & 1316\\_at   & 4.544424 & 5.050274 & 4.988216 & 4.862662 & 5.144750 & 4.837291 & 4.871102 & 4.981282 & ⋯ & 6.408416 & 4.846550 & 5.505493 & 5.088999 & 5.112156 & 5.743054 & 5.497159 & 5.444714 & 5.167476 & 5.273593\\\\\n",
       "\t6 & 6 & 1320\\_at   & 3.734027 & 3.630663 & 3.587355 & 4.006397 & 3.762099 & 3.608655 & 3.754732 & 3.931028 & ⋯ & 3.931349 & 3.784949 & 3.751392 & 3.702852 & 3.803101 & 3.597913 & 3.614316 & 3.799544 & 3.681782 & 3.887242\\\\\n",
       "\\end{tabular}\n"
      ],
      "text/markdown": [
       "\n",
       "A data.frame: 6 × 466\n",
       "\n",
       "| <!--/--> | X &lt;int&gt; | ID &lt;chr&gt; | GSM1254265.CEL &lt;dbl&gt; | GSM1254267.CEL &lt;dbl&gt; | GSM1254268.CEL &lt;dbl&gt; | GSM1254269.CEL &lt;dbl&gt; | GSM1254270.CEL &lt;dbl&gt; | GSM1254271.CEL &lt;dbl&gt; | GSM1254272.CEL &lt;dbl&gt; | GSM1254273.CEL &lt;dbl&gt; | ⋯ ⋯ | GSM726248.CEL &lt;dbl&gt; | GSM726249.CEL &lt;dbl&gt; | GSM726251.CEL &lt;dbl&gt; | GSM726252.CEL &lt;dbl&gt; | GSM726253.CEL &lt;dbl&gt; | GSM726256.CEL &lt;dbl&gt; | GSM726257.CEL &lt;dbl&gt; | GSM726258.CEL &lt;dbl&gt; | GSM726259.CEL &lt;dbl&gt; | GSM726260.CEL &lt;dbl&gt; |\n",
       "|---|---|---|---|---|---|---|---|---|---|---|---|---|---|---|---|---|---|---|---|---|---|\n",
       "| 1 | 1 | 1053_at   | 7.537840 | 6.800871 | 6.752669 | 5.929756 | 7.353971 | 6.496232 | 6.716364 | 7.407105 | ⋯ | 5.526605 | 7.605745 | 7.701945 | 7.096387 | 6.600813 | 6.563042 | 6.671309 | 5.930616 | 6.119624 | 6.554417 |\n",
       "| 2 | 2 | 117_at    | 4.679401 | 4.777950 | 4.360962 | 4.509553 | 4.720435 | 7.669224 | 5.432612 | 4.435121 | ⋯ | 5.071652 | 4.396333 | 5.979429 | 4.177423 | 4.290783 | 5.271843 | 5.841040 | 7.307721 | 6.138064 | 4.855038 |\n",
       "| 3 | 3 | 121_at    | 6.798042 | 7.370561 | 7.043800 | 7.132901 | 7.272406 | 6.851993 | 7.215697 | 7.225802 | ⋯ | 6.637921 | 7.564590 | 6.726327 | 7.424036 | 7.026728 | 6.710751 | 7.198889 | 6.996386 | 6.894396 | 7.371354 |\n",
       "| 4 | 4 | 1255_g_at | 2.704549 | 2.500655 | 2.644052 | 2.712234 | 2.861128 | 2.913571 | 2.820453 | 2.752378 | ⋯ | 2.918437 | 2.650575 | 2.795106 | 2.576289 | 2.807488 | 2.784839 | 2.746156 | 2.694078 | 3.009329 | 2.856732 |\n",
       "| 5 | 5 | 1316_at   | 4.544424 | 5.050274 | 4.988216 | 4.862662 | 5.144750 | 4.837291 | 4.871102 | 4.981282 | ⋯ | 6.408416 | 4.846550 | 5.505493 | 5.088999 | 5.112156 | 5.743054 | 5.497159 | 5.444714 | 5.167476 | 5.273593 |\n",
       "| 6 | 6 | 1320_at   | 3.734027 | 3.630663 | 3.587355 | 4.006397 | 3.762099 | 3.608655 | 3.754732 | 3.931028 | ⋯ | 3.931349 | 3.784949 | 3.751392 | 3.702852 | 3.803101 | 3.597913 | 3.614316 | 3.799544 | 3.681782 | 3.887242 |\n",
       "\n"
      ],
      "text/plain": [
       "  X ID        GSM1254265.CEL GSM1254267.CEL GSM1254268.CEL GSM1254269.CEL\n",
       "1 1 1053_at   7.537840       6.800871       6.752669       5.929756      \n",
       "2 2 117_at    4.679401       4.777950       4.360962       4.509553      \n",
       "3 3 121_at    6.798042       7.370561       7.043800       7.132901      \n",
       "4 4 1255_g_at 2.704549       2.500655       2.644052       2.712234      \n",
       "5 5 1316_at   4.544424       5.050274       4.988216       4.862662      \n",
       "6 6 1320_at   3.734027       3.630663       3.587355       4.006397      \n",
       "  GSM1254270.CEL GSM1254271.CEL GSM1254272.CEL GSM1254273.CEL ⋯ GSM726248.CEL\n",
       "1 7.353971       6.496232       6.716364       7.407105       ⋯ 5.526605     \n",
       "2 4.720435       7.669224       5.432612       4.435121       ⋯ 5.071652     \n",
       "3 7.272406       6.851993       7.215697       7.225802       ⋯ 6.637921     \n",
       "4 2.861128       2.913571       2.820453       2.752378       ⋯ 2.918437     \n",
       "5 5.144750       4.837291       4.871102       4.981282       ⋯ 6.408416     \n",
       "6 3.762099       3.608655       3.754732       3.931028       ⋯ 3.931349     \n",
       "  GSM726249.CEL GSM726251.CEL GSM726252.CEL GSM726253.CEL GSM726256.CEL\n",
       "1 7.605745      7.701945      7.096387      6.600813      6.563042     \n",
       "2 4.396333      5.979429      4.177423      4.290783      5.271843     \n",
       "3 7.564590      6.726327      7.424036      7.026728      6.710751     \n",
       "4 2.650575      2.795106      2.576289      2.807488      2.784839     \n",
       "5 4.846550      5.505493      5.088999      5.112156      5.743054     \n",
       "6 3.784949      3.751392      3.702852      3.803101      3.597913     \n",
       "  GSM726257.CEL GSM726258.CEL GSM726259.CEL GSM726260.CEL\n",
       "1 6.671309      5.930616      6.119624      6.554417     \n",
       "2 5.841040      7.307721      6.138064      4.855038     \n",
       "3 7.198889      6.996386      6.894396      7.371354     \n",
       "4 2.746156      2.694078      3.009329      2.856732     \n",
       "5 5.497159      5.444714      5.167476      5.273593     \n",
       "6 3.614316      3.799544      3.681782      3.887242     "
      ]
     },
     "metadata": {},
     "output_type": "display_data"
    }
   ],
   "source": [
    "head(expr.mat)"
   ]
  },
  {
   "cell_type": "code",
   "execution_count": 6,
   "id": "313133a4",
   "metadata": {
    "execution": {
     "iopub.execute_input": "2021-08-28T05:36:54.720390Z",
     "iopub.status.busy": "2021-08-28T05:36:54.718644Z",
     "iopub.status.idle": "2021-08-28T05:36:56.190928Z",
     "shell.execute_reply": "2021-08-28T05:36:56.189476Z"
    },
    "papermill": {
     "duration": 1.495527,
     "end_time": "2021-08-28T05:36:56.191077",
     "exception": false,
     "start_time": "2021-08-28T05:36:54.695550",
     "status": "completed"
    },
    "tags": []
   },
   "outputs": [],
   "source": [
    "mart <- useMart(\"ENSEMBL_MART_ENSEMBL\", host=\"uswest.ensembl.org\")"
   ]
  },
  {
   "cell_type": "code",
   "execution_count": 7,
   "id": "2b9cee45",
   "metadata": {
    "execution": {
     "iopub.execute_input": "2021-08-28T05:36:56.235316Z",
     "iopub.status.busy": "2021-08-28T05:36:56.233775Z",
     "iopub.status.idle": "2021-08-28T05:37:03.009677Z",
     "shell.execute_reply": "2021-08-28T05:37:03.008455Z"
    },
    "papermill": {
     "duration": 6.799142,
     "end_time": "2021-08-28T05:37:03.009816",
     "exception": false,
     "start_time": "2021-08-28T05:36:56.210674",
     "status": "completed"
    },
    "tags": []
   },
   "outputs": [],
   "source": [
    "mart <- useDataset(\"hsapiens_gene_ensembl\", mart)"
   ]
  },
  {
   "cell_type": "code",
   "execution_count": 8,
   "id": "4d68df10",
   "metadata": {
    "execution": {
     "iopub.execute_input": "2021-08-28T05:37:03.053778Z",
     "iopub.status.busy": "2021-08-28T05:37:03.052215Z",
     "iopub.status.idle": "2021-08-28T05:43:45.358156Z",
     "shell.execute_reply": "2021-08-28T05:43:45.355696Z"
    },
    "papermill": {
     "duration": 402.328595,
     "end_time": "2021-08-28T05:43:45.358308",
     "exception": false,
     "start_time": "2021-08-28T05:37:03.029713",
     "status": "completed"
    },
    "tags": []
   },
   "outputs": [],
   "source": [
    "annotLookup <- getBM(\n",
    "    mart=mart,\n",
    "    attributes=c(\n",
    "        \"affy_hg_u133_plus_2\",\n",
    "        \"ensembl_gene_id\",\n",
    "        \"gene_biotype\",\n",
    "        \"external_gene_name\"\n",
    "    ),\n",
    "    filter=\"affy_hg_u133_plus_2\",\n",
    "    values = expr.mat$ID,\n",
    "    uniqueRows=TRUE\n",
    ")"
   ]
  },
  {
   "cell_type": "code",
   "execution_count": 9,
   "id": "07323093",
   "metadata": {
    "execution": {
     "iopub.execute_input": "2021-08-28T05:43:45.405022Z",
     "iopub.status.busy": "2021-08-28T05:43:45.403594Z",
     "iopub.status.idle": "2021-08-28T05:43:45.426745Z",
     "shell.execute_reply": "2021-08-28T05:43:45.425340Z"
    },
    "papermill": {
     "duration": 0.047507,
     "end_time": "2021-08-28T05:43:45.426884",
     "exception": false,
     "start_time": "2021-08-28T05:43:45.379377",
     "status": "completed"
    },
    "tags": []
   },
   "outputs": [
    {
     "data": {
      "text/html": [
       "<table class=\"dataframe\">\n",
       "<caption>A data.frame: 6 × 4</caption>\n",
       "<thead>\n",
       "\t<tr><th></th><th scope=col>affy_hg_u133_plus_2</th><th scope=col>ensembl_gene_id</th><th scope=col>gene_biotype</th><th scope=col>external_gene_name</th></tr>\n",
       "\t<tr><th></th><th scope=col>&lt;chr&gt;</th><th scope=col>&lt;chr&gt;</th><th scope=col>&lt;chr&gt;</th><th scope=col>&lt;chr&gt;</th></tr>\n",
       "</thead>\n",
       "<tbody>\n",
       "\t<tr><th scope=row>1</th><td>1553551_s_at</td><td>ENSG00000198888</td><td>protein_coding</td><td>MT-ND1</td></tr>\n",
       "\t<tr><th scope=row>2</th><td>1553551_s_at</td><td>ENSG00000210100</td><td>Mt_tRNA       </td><td>MT-TI </td></tr>\n",
       "\t<tr><th scope=row>3</th><td>1553551_s_at</td><td>ENSG00000210112</td><td>Mt_tRNA       </td><td>MT-TM </td></tr>\n",
       "\t<tr><th scope=row>4</th><td>1553551_s_at</td><td>ENSG00000198763</td><td>protein_coding</td><td>MT-ND2</td></tr>\n",
       "\t<tr><th scope=row>5</th><td>1553538_s_at</td><td>ENSG00000198804</td><td>protein_coding</td><td>MT-CO1</td></tr>\n",
       "\t<tr><th scope=row>6</th><td>1553569_at  </td><td>ENSG00000198804</td><td>protein_coding</td><td>MT-CO1</td></tr>\n",
       "</tbody>\n",
       "</table>\n"
      ],
      "text/latex": [
       "A data.frame: 6 × 4\n",
       "\\begin{tabular}{r|llll}\n",
       "  & affy\\_hg\\_u133\\_plus\\_2 & ensembl\\_gene\\_id & gene\\_biotype & external\\_gene\\_name\\\\\n",
       "  & <chr> & <chr> & <chr> & <chr>\\\\\n",
       "\\hline\n",
       "\t1 & 1553551\\_s\\_at & ENSG00000198888 & protein\\_coding & MT-ND1\\\\\n",
       "\t2 & 1553551\\_s\\_at & ENSG00000210100 & Mt\\_tRNA        & MT-TI \\\\\n",
       "\t3 & 1553551\\_s\\_at & ENSG00000210112 & Mt\\_tRNA        & MT-TM \\\\\n",
       "\t4 & 1553551\\_s\\_at & ENSG00000198763 & protein\\_coding & MT-ND2\\\\\n",
       "\t5 & 1553538\\_s\\_at & ENSG00000198804 & protein\\_coding & MT-CO1\\\\\n",
       "\t6 & 1553569\\_at   & ENSG00000198804 & protein\\_coding & MT-CO1\\\\\n",
       "\\end{tabular}\n"
      ],
      "text/markdown": [
       "\n",
       "A data.frame: 6 × 4\n",
       "\n",
       "| <!--/--> | affy_hg_u133_plus_2 &lt;chr&gt; | ensembl_gene_id &lt;chr&gt; | gene_biotype &lt;chr&gt; | external_gene_name &lt;chr&gt; |\n",
       "|---|---|---|---|---|\n",
       "| 1 | 1553551_s_at | ENSG00000198888 | protein_coding | MT-ND1 |\n",
       "| 2 | 1553551_s_at | ENSG00000210100 | Mt_tRNA        | MT-TI  |\n",
       "| 3 | 1553551_s_at | ENSG00000210112 | Mt_tRNA        | MT-TM  |\n",
       "| 4 | 1553551_s_at | ENSG00000198763 | protein_coding | MT-ND2 |\n",
       "| 5 | 1553538_s_at | ENSG00000198804 | protein_coding | MT-CO1 |\n",
       "| 6 | 1553569_at   | ENSG00000198804 | protein_coding | MT-CO1 |\n",
       "\n"
      ],
      "text/plain": [
       "  affy_hg_u133_plus_2 ensembl_gene_id gene_biotype   external_gene_name\n",
       "1 1553551_s_at        ENSG00000198888 protein_coding MT-ND1            \n",
       "2 1553551_s_at        ENSG00000210100 Mt_tRNA        MT-TI             \n",
       "3 1553551_s_at        ENSG00000210112 Mt_tRNA        MT-TM             \n",
       "4 1553551_s_at        ENSG00000198763 protein_coding MT-ND2            \n",
       "5 1553538_s_at        ENSG00000198804 protein_coding MT-CO1            \n",
       "6 1553569_at          ENSG00000198804 protein_coding MT-CO1            "
      ]
     },
     "metadata": {},
     "output_type": "display_data"
    }
   ],
   "source": [
    "head(annotLookup)"
   ]
  },
  {
   "cell_type": "code",
   "execution_count": 10,
   "id": "80782fb9",
   "metadata": {
    "execution": {
     "iopub.execute_input": "2021-08-28T05:43:45.472231Z",
     "iopub.status.busy": "2021-08-28T05:43:45.470424Z",
     "iopub.status.idle": "2021-08-28T05:43:45.491321Z",
     "shell.execute_reply": "2021-08-28T05:43:45.489970Z"
    },
    "papermill": {
     "duration": 0.044751,
     "end_time": "2021-08-28T05:43:45.491468",
     "exception": false,
     "start_time": "2021-08-28T05:43:45.446717",
     "status": "completed"
    },
    "tags": []
   },
   "outputs": [],
   "source": [
    "indicesLookup <- match(expr.mat$ID, annotLookup$affy_hg_u133_plus_2)"
   ]
  },
  {
   "cell_type": "code",
   "execution_count": 11,
   "id": "8418478f",
   "metadata": {
    "execution": {
     "iopub.execute_input": "2021-08-28T05:43:45.536357Z",
     "iopub.status.busy": "2021-08-28T05:43:45.534459Z",
     "iopub.status.idle": "2021-08-28T05:43:45.567064Z",
     "shell.execute_reply": "2021-08-28T05:43:45.565315Z"
    },
    "papermill": {
     "duration": 0.056347,
     "end_time": "2021-08-28T05:43:45.567209",
     "exception": false,
     "start_time": "2021-08-28T05:43:45.510862",
     "status": "completed"
    },
    "tags": []
   },
   "outputs": [
    {
     "data": {
      "text/plain": [
       "\n",
       " TRUE \n",
       "37981 "
      ]
     },
     "metadata": {},
     "output_type": "display_data"
    }
   ],
   "source": [
    "table(expr.mat$ID == annotLookup[indicesLookup,'affy_hg_u133_plus_2'])"
   ]
  },
  {
   "cell_type": "code",
   "execution_count": 12,
   "id": "fe56dba9",
   "metadata": {
    "execution": {
     "iopub.execute_input": "2021-08-28T05:43:45.613586Z",
     "iopub.status.busy": "2021-08-28T05:43:45.611599Z",
     "iopub.status.idle": "2021-08-28T05:43:45.640339Z",
     "shell.execute_reply": "2021-08-28T05:43:45.639028Z"
    },
    "papermill": {
     "duration": 0.053296,
     "end_time": "2021-08-28T05:43:45.640483",
     "exception": false,
     "start_time": "2021-08-28T05:43:45.587187",
     "status": "completed"
    },
    "tags": []
   },
   "outputs": [],
   "source": [
    "annotLookup$affy_x_gene <- ifelse(annotLookup$external_gene_name == \"\",\n",
    "                                 annotLookup$affy_hg_u133_plus_2,\n",
    "                                  annotLookup$external_gene_name\n",
    "                                 )"
   ]
  },
  {
   "cell_type": "code",
   "execution_count": 13,
   "id": "5b6d746e",
   "metadata": {
    "execution": {
     "iopub.execute_input": "2021-08-28T05:43:45.688005Z",
     "iopub.status.busy": "2021-08-28T05:43:45.685662Z",
     "iopub.status.idle": "2021-08-28T05:43:45.714104Z",
     "shell.execute_reply": "2021-08-28T05:43:45.712464Z"
    },
    "papermill": {
     "duration": 0.053263,
     "end_time": "2021-08-28T05:43:45.714246",
     "exception": false,
     "start_time": "2021-08-28T05:43:45.660983",
     "status": "completed"
    },
    "tags": []
   },
   "outputs": [
    {
     "data": {
      "text/html": [
       "<table class=\"dataframe\">\n",
       "<caption>A data.frame: 6 × 5</caption>\n",
       "<thead>\n",
       "\t<tr><th></th><th scope=col>affy_hg_u133_plus_2</th><th scope=col>ensembl_gene_id</th><th scope=col>gene_biotype</th><th scope=col>external_gene_name</th><th scope=col>affy_x_gene</th></tr>\n",
       "\t<tr><th></th><th scope=col>&lt;chr&gt;</th><th scope=col>&lt;chr&gt;</th><th scope=col>&lt;chr&gt;</th><th scope=col>&lt;chr&gt;</th><th scope=col>&lt;chr&gt;</th></tr>\n",
       "</thead>\n",
       "<tbody>\n",
       "\t<tr><th scope=row>1</th><td>1553551_s_at</td><td>ENSG00000198888</td><td>protein_coding</td><td>MT-ND1</td><td>MT-ND1</td></tr>\n",
       "\t<tr><th scope=row>2</th><td>1553551_s_at</td><td>ENSG00000210100</td><td>Mt_tRNA       </td><td>MT-TI </td><td>MT-TI </td></tr>\n",
       "\t<tr><th scope=row>3</th><td>1553551_s_at</td><td>ENSG00000210112</td><td>Mt_tRNA       </td><td>MT-TM </td><td>MT-TM </td></tr>\n",
       "\t<tr><th scope=row>4</th><td>1553551_s_at</td><td>ENSG00000198763</td><td>protein_coding</td><td>MT-ND2</td><td>MT-ND2</td></tr>\n",
       "\t<tr><th scope=row>5</th><td>1553538_s_at</td><td>ENSG00000198804</td><td>protein_coding</td><td>MT-CO1</td><td>MT-CO1</td></tr>\n",
       "\t<tr><th scope=row>6</th><td>1553569_at  </td><td>ENSG00000198804</td><td>protein_coding</td><td>MT-CO1</td><td>MT-CO1</td></tr>\n",
       "</tbody>\n",
       "</table>\n"
      ],
      "text/latex": [
       "A data.frame: 6 × 5\n",
       "\\begin{tabular}{r|lllll}\n",
       "  & affy\\_hg\\_u133\\_plus\\_2 & ensembl\\_gene\\_id & gene\\_biotype & external\\_gene\\_name & affy\\_x\\_gene\\\\\n",
       "  & <chr> & <chr> & <chr> & <chr> & <chr>\\\\\n",
       "\\hline\n",
       "\t1 & 1553551\\_s\\_at & ENSG00000198888 & protein\\_coding & MT-ND1 & MT-ND1\\\\\n",
       "\t2 & 1553551\\_s\\_at & ENSG00000210100 & Mt\\_tRNA        & MT-TI  & MT-TI \\\\\n",
       "\t3 & 1553551\\_s\\_at & ENSG00000210112 & Mt\\_tRNA        & MT-TM  & MT-TM \\\\\n",
       "\t4 & 1553551\\_s\\_at & ENSG00000198763 & protein\\_coding & MT-ND2 & MT-ND2\\\\\n",
       "\t5 & 1553538\\_s\\_at & ENSG00000198804 & protein\\_coding & MT-CO1 & MT-CO1\\\\\n",
       "\t6 & 1553569\\_at   & ENSG00000198804 & protein\\_coding & MT-CO1 & MT-CO1\\\\\n",
       "\\end{tabular}\n"
      ],
      "text/markdown": [
       "\n",
       "A data.frame: 6 × 5\n",
       "\n",
       "| <!--/--> | affy_hg_u133_plus_2 &lt;chr&gt; | ensembl_gene_id &lt;chr&gt; | gene_biotype &lt;chr&gt; | external_gene_name &lt;chr&gt; | affy_x_gene &lt;chr&gt; |\n",
       "|---|---|---|---|---|---|\n",
       "| 1 | 1553551_s_at | ENSG00000198888 | protein_coding | MT-ND1 | MT-ND1 |\n",
       "| 2 | 1553551_s_at | ENSG00000210100 | Mt_tRNA        | MT-TI  | MT-TI  |\n",
       "| 3 | 1553551_s_at | ENSG00000210112 | Mt_tRNA        | MT-TM  | MT-TM  |\n",
       "| 4 | 1553551_s_at | ENSG00000198763 | protein_coding | MT-ND2 | MT-ND2 |\n",
       "| 5 | 1553538_s_at | ENSG00000198804 | protein_coding | MT-CO1 | MT-CO1 |\n",
       "| 6 | 1553569_at   | ENSG00000198804 | protein_coding | MT-CO1 | MT-CO1 |\n",
       "\n"
      ],
      "text/plain": [
       "  affy_hg_u133_plus_2 ensembl_gene_id gene_biotype   external_gene_name\n",
       "1 1553551_s_at        ENSG00000198888 protein_coding MT-ND1            \n",
       "2 1553551_s_at        ENSG00000210100 Mt_tRNA        MT-TI             \n",
       "3 1553551_s_at        ENSG00000210112 Mt_tRNA        MT-TM             \n",
       "4 1553551_s_at        ENSG00000198763 protein_coding MT-ND2            \n",
       "5 1553538_s_at        ENSG00000198804 protein_coding MT-CO1            \n",
       "6 1553569_at          ENSG00000198804 protein_coding MT-CO1            \n",
       "  affy_x_gene\n",
       "1 MT-ND1     \n",
       "2 MT-TI      \n",
       "3 MT-TM      \n",
       "4 MT-ND2     \n",
       "5 MT-CO1     \n",
       "6 MT-CO1     "
      ]
     },
     "metadata": {},
     "output_type": "display_data"
    }
   ],
   "source": [
    "head(annotLookup)"
   ]
  },
  {
   "cell_type": "code",
   "execution_count": 14,
   "id": "ea4b1c58",
   "metadata": {
    "execution": {
     "iopub.execute_input": "2021-08-28T05:43:45.761816Z",
     "iopub.status.busy": "2021-08-28T05:43:45.759637Z",
     "iopub.status.idle": "2021-08-28T05:43:45.828468Z",
     "shell.execute_reply": "2021-08-28T05:43:45.826928Z"
    },
    "papermill": {
     "duration": 0.094015,
     "end_time": "2021-08-28T05:43:45.828605",
     "exception": false,
     "start_time": "2021-08-28T05:43:45.734590",
     "status": "completed"
    },
    "tags": []
   },
   "outputs": [],
   "source": [
    "newnames <- paste(annotLookup[indicesLookup, \"affy_x_gene\"],\n",
    "                c(1:length(indicesLookup)),\n",
    "                sep=\"_\")"
   ]
  },
  {
   "cell_type": "code",
   "execution_count": 15,
   "id": "0e04bf25",
   "metadata": {
    "execution": {
     "iopub.execute_input": "2021-08-28T05:43:45.876202Z",
     "iopub.status.busy": "2021-08-28T05:43:45.874019Z",
     "iopub.status.idle": "2021-08-28T05:43:45.968687Z",
     "shell.execute_reply": "2021-08-28T05:43:45.966858Z"
    },
    "papermill": {
     "duration": 0.119981,
     "end_time": "2021-08-28T05:43:45.968864",
     "exception": false,
     "start_time": "2021-08-28T05:43:45.848883",
     "status": "completed"
    },
    "tags": []
   },
   "outputs": [
    {
     "data": {
      "text/html": [
       "<table class=\"dataframe\">\n",
       "<caption>A data.frame: 6 × 466</caption>\n",
       "<thead>\n",
       "\t<tr><th></th><th scope=col>X</th><th scope=col>ID</th><th scope=col>GSM1254265.CEL</th><th scope=col>GSM1254267.CEL</th><th scope=col>GSM1254268.CEL</th><th scope=col>GSM1254269.CEL</th><th scope=col>GSM1254270.CEL</th><th scope=col>GSM1254271.CEL</th><th scope=col>GSM1254272.CEL</th><th scope=col>GSM1254273.CEL</th><th scope=col>⋯</th><th scope=col>GSM726248.CEL</th><th scope=col>GSM726249.CEL</th><th scope=col>GSM726251.CEL</th><th scope=col>GSM726252.CEL</th><th scope=col>GSM726253.CEL</th><th scope=col>GSM726256.CEL</th><th scope=col>GSM726257.CEL</th><th scope=col>GSM726258.CEL</th><th scope=col>GSM726259.CEL</th><th scope=col>GSM726260.CEL</th></tr>\n",
       "\t<tr><th></th><th scope=col>&lt;int&gt;</th><th scope=col>&lt;chr&gt;</th><th scope=col>&lt;dbl&gt;</th><th scope=col>&lt;dbl&gt;</th><th scope=col>&lt;dbl&gt;</th><th scope=col>&lt;dbl&gt;</th><th scope=col>&lt;dbl&gt;</th><th scope=col>&lt;dbl&gt;</th><th scope=col>&lt;dbl&gt;</th><th scope=col>&lt;dbl&gt;</th><th scope=col>⋯</th><th scope=col>&lt;dbl&gt;</th><th scope=col>&lt;dbl&gt;</th><th scope=col>&lt;dbl&gt;</th><th scope=col>&lt;dbl&gt;</th><th scope=col>&lt;dbl&gt;</th><th scope=col>&lt;dbl&gt;</th><th scope=col>&lt;dbl&gt;</th><th scope=col>&lt;dbl&gt;</th><th scope=col>&lt;dbl&gt;</th><th scope=col>&lt;dbl&gt;</th></tr>\n",
       "</thead>\n",
       "<tbody>\n",
       "\t<tr><th scope=row>1</th><td>1</td><td>1053_at  </td><td>7.537840</td><td>6.800871</td><td>6.752669</td><td>5.929756</td><td>7.353971</td><td>6.496232</td><td>6.716364</td><td>7.407105</td><td>⋯</td><td>5.526605</td><td>7.605745</td><td>7.701945</td><td>7.096387</td><td>6.600813</td><td>6.563042</td><td>6.671309</td><td>5.930616</td><td>6.119624</td><td>6.554417</td></tr>\n",
       "\t<tr><th scope=row>2</th><td>2</td><td>117_at   </td><td>4.679401</td><td>4.777950</td><td>4.360962</td><td>4.509553</td><td>4.720435</td><td>7.669224</td><td>5.432612</td><td>4.435121</td><td>⋯</td><td>5.071652</td><td>4.396333</td><td>5.979429</td><td>4.177423</td><td>4.290783</td><td>5.271843</td><td>5.841040</td><td>7.307721</td><td>6.138064</td><td>4.855038</td></tr>\n",
       "\t<tr><th scope=row>3</th><td>3</td><td>121_at   </td><td>6.798042</td><td>7.370561</td><td>7.043800</td><td>7.132901</td><td>7.272406</td><td>6.851993</td><td>7.215697</td><td>7.225802</td><td>⋯</td><td>6.637921</td><td>7.564590</td><td>6.726327</td><td>7.424036</td><td>7.026728</td><td>6.710751</td><td>7.198889</td><td>6.996386</td><td>6.894396</td><td>7.371354</td></tr>\n",
       "\t<tr><th scope=row>4</th><td>4</td><td>1255_g_at</td><td>2.704549</td><td>2.500655</td><td>2.644052</td><td>2.712234</td><td>2.861128</td><td>2.913571</td><td>2.820453</td><td>2.752378</td><td>⋯</td><td>2.918437</td><td>2.650575</td><td>2.795106</td><td>2.576289</td><td>2.807488</td><td>2.784839</td><td>2.746156</td><td>2.694078</td><td>3.009329</td><td>2.856732</td></tr>\n",
       "\t<tr><th scope=row>5</th><td>5</td><td>1316_at  </td><td>4.544424</td><td>5.050274</td><td>4.988216</td><td>4.862662</td><td>5.144750</td><td>4.837291</td><td>4.871102</td><td>4.981282</td><td>⋯</td><td>6.408416</td><td>4.846550</td><td>5.505493</td><td>5.088999</td><td>5.112156</td><td>5.743054</td><td>5.497159</td><td>5.444714</td><td>5.167476</td><td>5.273593</td></tr>\n",
       "\t<tr><th scope=row>6</th><td>6</td><td>1320_at  </td><td>3.734027</td><td>3.630663</td><td>3.587355</td><td>4.006397</td><td>3.762099</td><td>3.608655</td><td>3.754732</td><td>3.931028</td><td>⋯</td><td>3.931349</td><td>3.784949</td><td>3.751392</td><td>3.702852</td><td>3.803101</td><td>3.597913</td><td>3.614316</td><td>3.799544</td><td>3.681782</td><td>3.887242</td></tr>\n",
       "</tbody>\n",
       "</table>\n"
      ],
      "text/latex": [
       "A data.frame: 6 × 466\n",
       "\\begin{tabular}{r|lllllllllllllllllllll}\n",
       "  & X & ID & GSM1254265.CEL & GSM1254267.CEL & GSM1254268.CEL & GSM1254269.CEL & GSM1254270.CEL & GSM1254271.CEL & GSM1254272.CEL & GSM1254273.CEL & ⋯ & GSM726248.CEL & GSM726249.CEL & GSM726251.CEL & GSM726252.CEL & GSM726253.CEL & GSM726256.CEL & GSM726257.CEL & GSM726258.CEL & GSM726259.CEL & GSM726260.CEL\\\\\n",
       "  & <int> & <chr> & <dbl> & <dbl> & <dbl> & <dbl> & <dbl> & <dbl> & <dbl> & <dbl> & ⋯ & <dbl> & <dbl> & <dbl> & <dbl> & <dbl> & <dbl> & <dbl> & <dbl> & <dbl> & <dbl>\\\\\n",
       "\\hline\n",
       "\t1 & 1 & 1053\\_at   & 7.537840 & 6.800871 & 6.752669 & 5.929756 & 7.353971 & 6.496232 & 6.716364 & 7.407105 & ⋯ & 5.526605 & 7.605745 & 7.701945 & 7.096387 & 6.600813 & 6.563042 & 6.671309 & 5.930616 & 6.119624 & 6.554417\\\\\n",
       "\t2 & 2 & 117\\_at    & 4.679401 & 4.777950 & 4.360962 & 4.509553 & 4.720435 & 7.669224 & 5.432612 & 4.435121 & ⋯ & 5.071652 & 4.396333 & 5.979429 & 4.177423 & 4.290783 & 5.271843 & 5.841040 & 7.307721 & 6.138064 & 4.855038\\\\\n",
       "\t3 & 3 & 121\\_at    & 6.798042 & 7.370561 & 7.043800 & 7.132901 & 7.272406 & 6.851993 & 7.215697 & 7.225802 & ⋯ & 6.637921 & 7.564590 & 6.726327 & 7.424036 & 7.026728 & 6.710751 & 7.198889 & 6.996386 & 6.894396 & 7.371354\\\\\n",
       "\t4 & 4 & 1255\\_g\\_at & 2.704549 & 2.500655 & 2.644052 & 2.712234 & 2.861128 & 2.913571 & 2.820453 & 2.752378 & ⋯ & 2.918437 & 2.650575 & 2.795106 & 2.576289 & 2.807488 & 2.784839 & 2.746156 & 2.694078 & 3.009329 & 2.856732\\\\\n",
       "\t5 & 5 & 1316\\_at   & 4.544424 & 5.050274 & 4.988216 & 4.862662 & 5.144750 & 4.837291 & 4.871102 & 4.981282 & ⋯ & 6.408416 & 4.846550 & 5.505493 & 5.088999 & 5.112156 & 5.743054 & 5.497159 & 5.444714 & 5.167476 & 5.273593\\\\\n",
       "\t6 & 6 & 1320\\_at   & 3.734027 & 3.630663 & 3.587355 & 4.006397 & 3.762099 & 3.608655 & 3.754732 & 3.931028 & ⋯ & 3.931349 & 3.784949 & 3.751392 & 3.702852 & 3.803101 & 3.597913 & 3.614316 & 3.799544 & 3.681782 & 3.887242\\\\\n",
       "\\end{tabular}\n"
      ],
      "text/markdown": [
       "\n",
       "A data.frame: 6 × 466\n",
       "\n",
       "| <!--/--> | X &lt;int&gt; | ID &lt;chr&gt; | GSM1254265.CEL &lt;dbl&gt; | GSM1254267.CEL &lt;dbl&gt; | GSM1254268.CEL &lt;dbl&gt; | GSM1254269.CEL &lt;dbl&gt; | GSM1254270.CEL &lt;dbl&gt; | GSM1254271.CEL &lt;dbl&gt; | GSM1254272.CEL &lt;dbl&gt; | GSM1254273.CEL &lt;dbl&gt; | ⋯ ⋯ | GSM726248.CEL &lt;dbl&gt; | GSM726249.CEL &lt;dbl&gt; | GSM726251.CEL &lt;dbl&gt; | GSM726252.CEL &lt;dbl&gt; | GSM726253.CEL &lt;dbl&gt; | GSM726256.CEL &lt;dbl&gt; | GSM726257.CEL &lt;dbl&gt; | GSM726258.CEL &lt;dbl&gt; | GSM726259.CEL &lt;dbl&gt; | GSM726260.CEL &lt;dbl&gt; |\n",
       "|---|---|---|---|---|---|---|---|---|---|---|---|---|---|---|---|---|---|---|---|---|---|\n",
       "| 1 | 1 | 1053_at   | 7.537840 | 6.800871 | 6.752669 | 5.929756 | 7.353971 | 6.496232 | 6.716364 | 7.407105 | ⋯ | 5.526605 | 7.605745 | 7.701945 | 7.096387 | 6.600813 | 6.563042 | 6.671309 | 5.930616 | 6.119624 | 6.554417 |\n",
       "| 2 | 2 | 117_at    | 4.679401 | 4.777950 | 4.360962 | 4.509553 | 4.720435 | 7.669224 | 5.432612 | 4.435121 | ⋯ | 5.071652 | 4.396333 | 5.979429 | 4.177423 | 4.290783 | 5.271843 | 5.841040 | 7.307721 | 6.138064 | 4.855038 |\n",
       "| 3 | 3 | 121_at    | 6.798042 | 7.370561 | 7.043800 | 7.132901 | 7.272406 | 6.851993 | 7.215697 | 7.225802 | ⋯ | 6.637921 | 7.564590 | 6.726327 | 7.424036 | 7.026728 | 6.710751 | 7.198889 | 6.996386 | 6.894396 | 7.371354 |\n",
       "| 4 | 4 | 1255_g_at | 2.704549 | 2.500655 | 2.644052 | 2.712234 | 2.861128 | 2.913571 | 2.820453 | 2.752378 | ⋯ | 2.918437 | 2.650575 | 2.795106 | 2.576289 | 2.807488 | 2.784839 | 2.746156 | 2.694078 | 3.009329 | 2.856732 |\n",
       "| 5 | 5 | 1316_at   | 4.544424 | 5.050274 | 4.988216 | 4.862662 | 5.144750 | 4.837291 | 4.871102 | 4.981282 | ⋯ | 6.408416 | 4.846550 | 5.505493 | 5.088999 | 5.112156 | 5.743054 | 5.497159 | 5.444714 | 5.167476 | 5.273593 |\n",
       "| 6 | 6 | 1320_at   | 3.734027 | 3.630663 | 3.587355 | 4.006397 | 3.762099 | 3.608655 | 3.754732 | 3.931028 | ⋯ | 3.931349 | 3.784949 | 3.751392 | 3.702852 | 3.803101 | 3.597913 | 3.614316 | 3.799544 | 3.681782 | 3.887242 |\n",
       "\n"
      ],
      "text/plain": [
       "  X ID        GSM1254265.CEL GSM1254267.CEL GSM1254268.CEL GSM1254269.CEL\n",
       "1 1 1053_at   7.537840       6.800871       6.752669       5.929756      \n",
       "2 2 117_at    4.679401       4.777950       4.360962       4.509553      \n",
       "3 3 121_at    6.798042       7.370561       7.043800       7.132901      \n",
       "4 4 1255_g_at 2.704549       2.500655       2.644052       2.712234      \n",
       "5 5 1316_at   4.544424       5.050274       4.988216       4.862662      \n",
       "6 6 1320_at   3.734027       3.630663       3.587355       4.006397      \n",
       "  GSM1254270.CEL GSM1254271.CEL GSM1254272.CEL GSM1254273.CEL ⋯ GSM726248.CEL\n",
       "1 7.353971       6.496232       6.716364       7.407105       ⋯ 5.526605     \n",
       "2 4.720435       7.669224       5.432612       4.435121       ⋯ 5.071652     \n",
       "3 7.272406       6.851993       7.215697       7.225802       ⋯ 6.637921     \n",
       "4 2.861128       2.913571       2.820453       2.752378       ⋯ 2.918437     \n",
       "5 5.144750       4.837291       4.871102       4.981282       ⋯ 6.408416     \n",
       "6 3.762099       3.608655       3.754732       3.931028       ⋯ 3.931349     \n",
       "  GSM726249.CEL GSM726251.CEL GSM726252.CEL GSM726253.CEL GSM726256.CEL\n",
       "1 7.605745      7.701945      7.096387      6.600813      6.563042     \n",
       "2 4.396333      5.979429      4.177423      4.290783      5.271843     \n",
       "3 7.564590      6.726327      7.424036      7.026728      6.710751     \n",
       "4 2.650575      2.795106      2.576289      2.807488      2.784839     \n",
       "5 4.846550      5.505493      5.088999      5.112156      5.743054     \n",
       "6 3.784949      3.751392      3.702852      3.803101      3.597913     \n",
       "  GSM726257.CEL GSM726258.CEL GSM726259.CEL GSM726260.CEL\n",
       "1 6.671309      5.930616      6.119624      6.554417     \n",
       "2 5.841040      7.307721      6.138064      4.855038     \n",
       "3 7.198889      6.996386      6.894396      7.371354     \n",
       "4 2.746156      2.694078      3.009329      2.856732     \n",
       "5 5.497159      5.444714      5.167476      5.273593     \n",
       "6 3.614316      3.799544      3.681782      3.887242     "
      ]
     },
     "metadata": {},
     "output_type": "display_data"
    }
   ],
   "source": [
    "head(expr.mat)"
   ]
  },
  {
   "cell_type": "code",
   "execution_count": 16,
   "id": "1c06390c",
   "metadata": {
    "execution": {
     "iopub.execute_input": "2021-08-28T05:43:46.019965Z",
     "iopub.status.busy": "2021-08-28T05:43:46.017840Z",
     "iopub.status.idle": "2021-08-28T05:43:46.035502Z",
     "shell.execute_reply": "2021-08-28T05:43:46.033868Z"
    },
    "papermill": {
     "duration": 0.044276,
     "end_time": "2021-08-28T05:43:46.035640",
     "exception": false,
     "start_time": "2021-08-28T05:43:45.991364",
     "status": "completed"
    },
    "tags": []
   },
   "outputs": [],
   "source": [
    "expr.mat$name <- annotLookup[indicesLookup, \"affy_x_gene\"]"
   ]
  },
  {
   "cell_type": "code",
   "execution_count": 17,
   "id": "daddf84e",
   "metadata": {
    "execution": {
     "iopub.execute_input": "2021-08-28T05:43:46.086272Z",
     "iopub.status.busy": "2021-08-28T05:43:46.084045Z",
     "iopub.status.idle": "2021-08-28T05:43:46.180974Z",
     "shell.execute_reply": "2021-08-28T05:43:46.179206Z"
    },
    "papermill": {
     "duration": 0.123685,
     "end_time": "2021-08-28T05:43:46.181117",
     "exception": false,
     "start_time": "2021-08-28T05:43:46.057432",
     "status": "completed"
    },
    "tags": []
   },
   "outputs": [
    {
     "data": {
      "text/html": [
       "<table class=\"dataframe\">\n",
       "<caption>A data.frame: 6 × 467</caption>\n",
       "<thead>\n",
       "\t<tr><th></th><th scope=col>X</th><th scope=col>ID</th><th scope=col>GSM1254265.CEL</th><th scope=col>GSM1254267.CEL</th><th scope=col>GSM1254268.CEL</th><th scope=col>GSM1254269.CEL</th><th scope=col>GSM1254270.CEL</th><th scope=col>GSM1254271.CEL</th><th scope=col>GSM1254272.CEL</th><th scope=col>GSM1254273.CEL</th><th scope=col>⋯</th><th scope=col>GSM726249.CEL</th><th scope=col>GSM726251.CEL</th><th scope=col>GSM726252.CEL</th><th scope=col>GSM726253.CEL</th><th scope=col>GSM726256.CEL</th><th scope=col>GSM726257.CEL</th><th scope=col>GSM726258.CEL</th><th scope=col>GSM726259.CEL</th><th scope=col>GSM726260.CEL</th><th scope=col>name</th></tr>\n",
       "\t<tr><th></th><th scope=col>&lt;int&gt;</th><th scope=col>&lt;chr&gt;</th><th scope=col>&lt;dbl&gt;</th><th scope=col>&lt;dbl&gt;</th><th scope=col>&lt;dbl&gt;</th><th scope=col>&lt;dbl&gt;</th><th scope=col>&lt;dbl&gt;</th><th scope=col>&lt;dbl&gt;</th><th scope=col>&lt;dbl&gt;</th><th scope=col>&lt;dbl&gt;</th><th scope=col>⋯</th><th scope=col>&lt;dbl&gt;</th><th scope=col>&lt;dbl&gt;</th><th scope=col>&lt;dbl&gt;</th><th scope=col>&lt;dbl&gt;</th><th scope=col>&lt;dbl&gt;</th><th scope=col>&lt;dbl&gt;</th><th scope=col>&lt;dbl&gt;</th><th scope=col>&lt;dbl&gt;</th><th scope=col>&lt;dbl&gt;</th><th scope=col>&lt;chr&gt;</th></tr>\n",
       "</thead>\n",
       "<tbody>\n",
       "\t<tr><th scope=row>1</th><td>1</td><td>1053_at  </td><td>7.537840</td><td>6.800871</td><td>6.752669</td><td>5.929756</td><td>7.353971</td><td>6.496232</td><td>6.716364</td><td>7.407105</td><td>⋯</td><td>7.605745</td><td>7.701945</td><td>7.096387</td><td>6.600813</td><td>6.563042</td><td>6.671309</td><td>5.930616</td><td>6.119624</td><td>6.554417</td><td>RFC2  </td></tr>\n",
       "\t<tr><th scope=row>2</th><td>2</td><td>117_at   </td><td>4.679401</td><td>4.777950</td><td>4.360962</td><td>4.509553</td><td>4.720435</td><td>7.669224</td><td>5.432612</td><td>4.435121</td><td>⋯</td><td>4.396333</td><td>5.979429</td><td>4.177423</td><td>4.290783</td><td>5.271843</td><td>5.841040</td><td>7.307721</td><td>6.138064</td><td>4.855038</td><td>HSPA6 </td></tr>\n",
       "\t<tr><th scope=row>3</th><td>3</td><td>121_at   </td><td>6.798042</td><td>7.370561</td><td>7.043800</td><td>7.132901</td><td>7.272406</td><td>6.851993</td><td>7.215697</td><td>7.225802</td><td>⋯</td><td>7.564590</td><td>6.726327</td><td>7.424036</td><td>7.026728</td><td>6.710751</td><td>7.198889</td><td>6.996386</td><td>6.894396</td><td>7.371354</td><td>PAX8  </td></tr>\n",
       "\t<tr><th scope=row>4</th><td>4</td><td>1255_g_at</td><td>2.704549</td><td>2.500655</td><td>2.644052</td><td>2.712234</td><td>2.861128</td><td>2.913571</td><td>2.820453</td><td>2.752378</td><td>⋯</td><td>2.650575</td><td>2.795106</td><td>2.576289</td><td>2.807488</td><td>2.784839</td><td>2.746156</td><td>2.694078</td><td>3.009329</td><td>2.856732</td><td>GUCA1A</td></tr>\n",
       "\t<tr><th scope=row>5</th><td>5</td><td>1316_at  </td><td>4.544424</td><td>5.050274</td><td>4.988216</td><td>4.862662</td><td>5.144750</td><td>4.837291</td><td>4.871102</td><td>4.981282</td><td>⋯</td><td>4.846550</td><td>5.505493</td><td>5.088999</td><td>5.112156</td><td>5.743054</td><td>5.497159</td><td>5.444714</td><td>5.167476</td><td>5.273593</td><td>THRA  </td></tr>\n",
       "\t<tr><th scope=row>6</th><td>6</td><td>1320_at  </td><td>3.734027</td><td>3.630663</td><td>3.587355</td><td>4.006397</td><td>3.762099</td><td>3.608655</td><td>3.754732</td><td>3.931028</td><td>⋯</td><td>3.784949</td><td>3.751392</td><td>3.702852</td><td>3.803101</td><td>3.597913</td><td>3.614316</td><td>3.799544</td><td>3.681782</td><td>3.887242</td><td>PTPN21</td></tr>\n",
       "</tbody>\n",
       "</table>\n"
      ],
      "text/latex": [
       "A data.frame: 6 × 467\n",
       "\\begin{tabular}{r|lllllllllllllllllllll}\n",
       "  & X & ID & GSM1254265.CEL & GSM1254267.CEL & GSM1254268.CEL & GSM1254269.CEL & GSM1254270.CEL & GSM1254271.CEL & GSM1254272.CEL & GSM1254273.CEL & ⋯ & GSM726249.CEL & GSM726251.CEL & GSM726252.CEL & GSM726253.CEL & GSM726256.CEL & GSM726257.CEL & GSM726258.CEL & GSM726259.CEL & GSM726260.CEL & name\\\\\n",
       "  & <int> & <chr> & <dbl> & <dbl> & <dbl> & <dbl> & <dbl> & <dbl> & <dbl> & <dbl> & ⋯ & <dbl> & <dbl> & <dbl> & <dbl> & <dbl> & <dbl> & <dbl> & <dbl> & <dbl> & <chr>\\\\\n",
       "\\hline\n",
       "\t1 & 1 & 1053\\_at   & 7.537840 & 6.800871 & 6.752669 & 5.929756 & 7.353971 & 6.496232 & 6.716364 & 7.407105 & ⋯ & 7.605745 & 7.701945 & 7.096387 & 6.600813 & 6.563042 & 6.671309 & 5.930616 & 6.119624 & 6.554417 & RFC2  \\\\\n",
       "\t2 & 2 & 117\\_at    & 4.679401 & 4.777950 & 4.360962 & 4.509553 & 4.720435 & 7.669224 & 5.432612 & 4.435121 & ⋯ & 4.396333 & 5.979429 & 4.177423 & 4.290783 & 5.271843 & 5.841040 & 7.307721 & 6.138064 & 4.855038 & HSPA6 \\\\\n",
       "\t3 & 3 & 121\\_at    & 6.798042 & 7.370561 & 7.043800 & 7.132901 & 7.272406 & 6.851993 & 7.215697 & 7.225802 & ⋯ & 7.564590 & 6.726327 & 7.424036 & 7.026728 & 6.710751 & 7.198889 & 6.996386 & 6.894396 & 7.371354 & PAX8  \\\\\n",
       "\t4 & 4 & 1255\\_g\\_at & 2.704549 & 2.500655 & 2.644052 & 2.712234 & 2.861128 & 2.913571 & 2.820453 & 2.752378 & ⋯ & 2.650575 & 2.795106 & 2.576289 & 2.807488 & 2.784839 & 2.746156 & 2.694078 & 3.009329 & 2.856732 & GUCA1A\\\\\n",
       "\t5 & 5 & 1316\\_at   & 4.544424 & 5.050274 & 4.988216 & 4.862662 & 5.144750 & 4.837291 & 4.871102 & 4.981282 & ⋯ & 4.846550 & 5.505493 & 5.088999 & 5.112156 & 5.743054 & 5.497159 & 5.444714 & 5.167476 & 5.273593 & THRA  \\\\\n",
       "\t6 & 6 & 1320\\_at   & 3.734027 & 3.630663 & 3.587355 & 4.006397 & 3.762099 & 3.608655 & 3.754732 & 3.931028 & ⋯ & 3.784949 & 3.751392 & 3.702852 & 3.803101 & 3.597913 & 3.614316 & 3.799544 & 3.681782 & 3.887242 & PTPN21\\\\\n",
       "\\end{tabular}\n"
      ],
      "text/markdown": [
       "\n",
       "A data.frame: 6 × 467\n",
       "\n",
       "| <!--/--> | X &lt;int&gt; | ID &lt;chr&gt; | GSM1254265.CEL &lt;dbl&gt; | GSM1254267.CEL &lt;dbl&gt; | GSM1254268.CEL &lt;dbl&gt; | GSM1254269.CEL &lt;dbl&gt; | GSM1254270.CEL &lt;dbl&gt; | GSM1254271.CEL &lt;dbl&gt; | GSM1254272.CEL &lt;dbl&gt; | GSM1254273.CEL &lt;dbl&gt; | ⋯ ⋯ | GSM726249.CEL &lt;dbl&gt; | GSM726251.CEL &lt;dbl&gt; | GSM726252.CEL &lt;dbl&gt; | GSM726253.CEL &lt;dbl&gt; | GSM726256.CEL &lt;dbl&gt; | GSM726257.CEL &lt;dbl&gt; | GSM726258.CEL &lt;dbl&gt; | GSM726259.CEL &lt;dbl&gt; | GSM726260.CEL &lt;dbl&gt; | name &lt;chr&gt; |\n",
       "|---|---|---|---|---|---|---|---|---|---|---|---|---|---|---|---|---|---|---|---|---|---|\n",
       "| 1 | 1 | 1053_at   | 7.537840 | 6.800871 | 6.752669 | 5.929756 | 7.353971 | 6.496232 | 6.716364 | 7.407105 | ⋯ | 7.605745 | 7.701945 | 7.096387 | 6.600813 | 6.563042 | 6.671309 | 5.930616 | 6.119624 | 6.554417 | RFC2   |\n",
       "| 2 | 2 | 117_at    | 4.679401 | 4.777950 | 4.360962 | 4.509553 | 4.720435 | 7.669224 | 5.432612 | 4.435121 | ⋯ | 4.396333 | 5.979429 | 4.177423 | 4.290783 | 5.271843 | 5.841040 | 7.307721 | 6.138064 | 4.855038 | HSPA6  |\n",
       "| 3 | 3 | 121_at    | 6.798042 | 7.370561 | 7.043800 | 7.132901 | 7.272406 | 6.851993 | 7.215697 | 7.225802 | ⋯ | 7.564590 | 6.726327 | 7.424036 | 7.026728 | 6.710751 | 7.198889 | 6.996386 | 6.894396 | 7.371354 | PAX8   |\n",
       "| 4 | 4 | 1255_g_at | 2.704549 | 2.500655 | 2.644052 | 2.712234 | 2.861128 | 2.913571 | 2.820453 | 2.752378 | ⋯ | 2.650575 | 2.795106 | 2.576289 | 2.807488 | 2.784839 | 2.746156 | 2.694078 | 3.009329 | 2.856732 | GUCA1A |\n",
       "| 5 | 5 | 1316_at   | 4.544424 | 5.050274 | 4.988216 | 4.862662 | 5.144750 | 4.837291 | 4.871102 | 4.981282 | ⋯ | 4.846550 | 5.505493 | 5.088999 | 5.112156 | 5.743054 | 5.497159 | 5.444714 | 5.167476 | 5.273593 | THRA   |\n",
       "| 6 | 6 | 1320_at   | 3.734027 | 3.630663 | 3.587355 | 4.006397 | 3.762099 | 3.608655 | 3.754732 | 3.931028 | ⋯ | 3.784949 | 3.751392 | 3.702852 | 3.803101 | 3.597913 | 3.614316 | 3.799544 | 3.681782 | 3.887242 | PTPN21 |\n",
       "\n"
      ],
      "text/plain": [
       "  X ID        GSM1254265.CEL GSM1254267.CEL GSM1254268.CEL GSM1254269.CEL\n",
       "1 1 1053_at   7.537840       6.800871       6.752669       5.929756      \n",
       "2 2 117_at    4.679401       4.777950       4.360962       4.509553      \n",
       "3 3 121_at    6.798042       7.370561       7.043800       7.132901      \n",
       "4 4 1255_g_at 2.704549       2.500655       2.644052       2.712234      \n",
       "5 5 1316_at   4.544424       5.050274       4.988216       4.862662      \n",
       "6 6 1320_at   3.734027       3.630663       3.587355       4.006397      \n",
       "  GSM1254270.CEL GSM1254271.CEL GSM1254272.CEL GSM1254273.CEL ⋯ GSM726249.CEL\n",
       "1 7.353971       6.496232       6.716364       7.407105       ⋯ 7.605745     \n",
       "2 4.720435       7.669224       5.432612       4.435121       ⋯ 4.396333     \n",
       "3 7.272406       6.851993       7.215697       7.225802       ⋯ 7.564590     \n",
       "4 2.861128       2.913571       2.820453       2.752378       ⋯ 2.650575     \n",
       "5 5.144750       4.837291       4.871102       4.981282       ⋯ 4.846550     \n",
       "6 3.762099       3.608655       3.754732       3.931028       ⋯ 3.784949     \n",
       "  GSM726251.CEL GSM726252.CEL GSM726253.CEL GSM726256.CEL GSM726257.CEL\n",
       "1 7.701945      7.096387      6.600813      6.563042      6.671309     \n",
       "2 5.979429      4.177423      4.290783      5.271843      5.841040     \n",
       "3 6.726327      7.424036      7.026728      6.710751      7.198889     \n",
       "4 2.795106      2.576289      2.807488      2.784839      2.746156     \n",
       "5 5.505493      5.088999      5.112156      5.743054      5.497159     \n",
       "6 3.751392      3.702852      3.803101      3.597913      3.614316     \n",
       "  GSM726258.CEL GSM726259.CEL GSM726260.CEL name  \n",
       "1 5.930616      6.119624      6.554417      RFC2  \n",
       "2 7.307721      6.138064      4.855038      HSPA6 \n",
       "3 6.996386      6.894396      7.371354      PAX8  \n",
       "4 2.694078      3.009329      2.856732      GUCA1A\n",
       "5 5.444714      5.167476      5.273593      THRA  \n",
       "6 3.799544      3.681782      3.887242      PTPN21"
      ]
     },
     "metadata": {},
     "output_type": "display_data"
    }
   ],
   "source": [
    "head(expr.mat)"
   ]
  },
  {
   "cell_type": "code",
   "execution_count": 18,
   "id": "8c3d1f90",
   "metadata": {
    "execution": {
     "iopub.execute_input": "2021-08-28T05:43:46.235170Z",
     "iopub.status.busy": "2021-08-28T05:43:46.232595Z",
     "iopub.status.idle": "2021-08-28T05:43:46.332000Z",
     "shell.execute_reply": "2021-08-28T05:43:46.329871Z"
    },
    "papermill": {
     "duration": 0.127411,
     "end_time": "2021-08-28T05:43:46.332146",
     "exception": false,
     "start_time": "2021-08-28T05:43:46.204735",
     "status": "completed"
    },
    "tags": []
   },
   "outputs": [
    {
     "data": {
      "text/html": [
       "<table class=\"dataframe\">\n",
       "<caption>A data.frame: 6 × 467</caption>\n",
       "<thead>\n",
       "\t<tr><th></th><th scope=col>X</th><th scope=col>ID</th><th scope=col>GSM1254265.CEL</th><th scope=col>GSM1254267.CEL</th><th scope=col>GSM1254268.CEL</th><th scope=col>GSM1254269.CEL</th><th scope=col>GSM1254270.CEL</th><th scope=col>GSM1254271.CEL</th><th scope=col>GSM1254272.CEL</th><th scope=col>GSM1254273.CEL</th><th scope=col>⋯</th><th scope=col>GSM726249.CEL</th><th scope=col>GSM726251.CEL</th><th scope=col>GSM726252.CEL</th><th scope=col>GSM726253.CEL</th><th scope=col>GSM726256.CEL</th><th scope=col>GSM726257.CEL</th><th scope=col>GSM726258.CEL</th><th scope=col>GSM726259.CEL</th><th scope=col>GSM726260.CEL</th><th scope=col>name</th></tr>\n",
       "\t<tr><th></th><th scope=col>&lt;int&gt;</th><th scope=col>&lt;chr&gt;</th><th scope=col>&lt;dbl&gt;</th><th scope=col>&lt;dbl&gt;</th><th scope=col>&lt;dbl&gt;</th><th scope=col>&lt;dbl&gt;</th><th scope=col>&lt;dbl&gt;</th><th scope=col>&lt;dbl&gt;</th><th scope=col>&lt;dbl&gt;</th><th scope=col>&lt;dbl&gt;</th><th scope=col>⋯</th><th scope=col>&lt;dbl&gt;</th><th scope=col>&lt;dbl&gt;</th><th scope=col>&lt;dbl&gt;</th><th scope=col>&lt;dbl&gt;</th><th scope=col>&lt;dbl&gt;</th><th scope=col>&lt;dbl&gt;</th><th scope=col>&lt;dbl&gt;</th><th scope=col>&lt;dbl&gt;</th><th scope=col>&lt;dbl&gt;</th><th scope=col>&lt;chr&gt;</th></tr>\n",
       "</thead>\n",
       "<tbody>\n",
       "\t<tr><th scope=row>42308</th><td>42308</td><td>91684_g_at</td><td>6.766378</td><td>6.301067</td><td>6.942578</td><td>7.182671</td><td>6.619921</td><td>6.066498</td><td>6.505410</td><td>6.035226</td><td>⋯</td><td>6.528560</td><td>6.719971</td><td>6.890480</td><td>7.020884</td><td>6.317323</td><td>6.477495</td><td>6.103140</td><td>5.734245</td><td>6.278673</td><td>EXOSC4 </td></tr>\n",
       "\t<tr><th scope=row>42309</th><td>42309</td><td>91703_at  </td><td>6.747648</td><td>6.676374</td><td>6.881059</td><td>6.822209</td><td>7.069263</td><td>8.423341</td><td>6.621008</td><td>6.776445</td><td>⋯</td><td>7.224058</td><td>8.298455</td><td>7.084531</td><td>6.432603</td><td>7.648241</td><td>7.355685</td><td>8.489993</td><td>6.966807</td><td>6.403711</td><td>EHBP1L1</td></tr>\n",
       "\t<tr><th scope=row>42310</th><td>42310</td><td>91816_f_at</td><td>3.408123</td><td>3.183218</td><td>2.989174</td><td>3.100119</td><td>3.051995</td><td>3.283360</td><td>3.096775</td><td>3.421928</td><td>⋯</td><td>4.308559</td><td>4.362729</td><td>3.832156</td><td>4.822119</td><td>3.246183</td><td>3.405585</td><td>3.209524</td><td>3.436144</td><td>3.152048</td><td>MEX3D  </td></tr>\n",
       "\t<tr><th scope=row>42311</th><td>42311</td><td>91826_at  </td><td>5.018403</td><td>4.752440</td><td>4.660150</td><td>4.963589</td><td>4.880585</td><td>5.415532</td><td>4.880591</td><td>5.179232</td><td>⋯</td><td>5.615756</td><td>5.725632</td><td>5.402862</td><td>5.045892</td><td>5.154306</td><td>4.901181</td><td>5.079040</td><td>5.071480</td><td>4.677314</td><td>EPS8L1 </td></tr>\n",
       "\t<tr><th scope=row>42312</th><td>42312</td><td>91920_at  </td><td>5.989433</td><td>6.111611</td><td>6.092421</td><td>6.281226</td><td>6.040389</td><td>6.131345</td><td>6.635692</td><td>6.061870</td><td>⋯</td><td>6.112284</td><td>6.114066</td><td>6.248340</td><td>6.151032</td><td>6.232299</td><td>5.966215</td><td>6.321657</td><td>6.060676</td><td>6.077992</td><td>BCAN   </td></tr>\n",
       "\t<tr><th scope=row>42313</th><td>42313</td><td>91952_at  </td><td>6.749391</td><td>6.489252</td><td>6.394461</td><td>6.695105</td><td>6.420493</td><td>6.905075</td><td>6.722545</td><td>6.580546</td><td>⋯</td><td>7.029894</td><td>7.476906</td><td>7.291986</td><td>6.929070</td><td>7.116279</td><td>6.582520</td><td>6.431906</td><td>6.457010</td><td>6.030307</td><td>DCAF15 </td></tr>\n",
       "</tbody>\n",
       "</table>\n"
      ],
      "text/latex": [
       "A data.frame: 6 × 467\n",
       "\\begin{tabular}{r|lllllllllllllllllllll}\n",
       "  & X & ID & GSM1254265.CEL & GSM1254267.CEL & GSM1254268.CEL & GSM1254269.CEL & GSM1254270.CEL & GSM1254271.CEL & GSM1254272.CEL & GSM1254273.CEL & ⋯ & GSM726249.CEL & GSM726251.CEL & GSM726252.CEL & GSM726253.CEL & GSM726256.CEL & GSM726257.CEL & GSM726258.CEL & GSM726259.CEL & GSM726260.CEL & name\\\\\n",
       "  & <int> & <chr> & <dbl> & <dbl> & <dbl> & <dbl> & <dbl> & <dbl> & <dbl> & <dbl> & ⋯ & <dbl> & <dbl> & <dbl> & <dbl> & <dbl> & <dbl> & <dbl> & <dbl> & <dbl> & <chr>\\\\\n",
       "\\hline\n",
       "\t42308 & 42308 & 91684\\_g\\_at & 6.766378 & 6.301067 & 6.942578 & 7.182671 & 6.619921 & 6.066498 & 6.505410 & 6.035226 & ⋯ & 6.528560 & 6.719971 & 6.890480 & 7.020884 & 6.317323 & 6.477495 & 6.103140 & 5.734245 & 6.278673 & EXOSC4 \\\\\n",
       "\t42309 & 42309 & 91703\\_at   & 6.747648 & 6.676374 & 6.881059 & 6.822209 & 7.069263 & 8.423341 & 6.621008 & 6.776445 & ⋯ & 7.224058 & 8.298455 & 7.084531 & 6.432603 & 7.648241 & 7.355685 & 8.489993 & 6.966807 & 6.403711 & EHBP1L1\\\\\n",
       "\t42310 & 42310 & 91816\\_f\\_at & 3.408123 & 3.183218 & 2.989174 & 3.100119 & 3.051995 & 3.283360 & 3.096775 & 3.421928 & ⋯ & 4.308559 & 4.362729 & 3.832156 & 4.822119 & 3.246183 & 3.405585 & 3.209524 & 3.436144 & 3.152048 & MEX3D  \\\\\n",
       "\t42311 & 42311 & 91826\\_at   & 5.018403 & 4.752440 & 4.660150 & 4.963589 & 4.880585 & 5.415532 & 4.880591 & 5.179232 & ⋯ & 5.615756 & 5.725632 & 5.402862 & 5.045892 & 5.154306 & 4.901181 & 5.079040 & 5.071480 & 4.677314 & EPS8L1 \\\\\n",
       "\t42312 & 42312 & 91920\\_at   & 5.989433 & 6.111611 & 6.092421 & 6.281226 & 6.040389 & 6.131345 & 6.635692 & 6.061870 & ⋯ & 6.112284 & 6.114066 & 6.248340 & 6.151032 & 6.232299 & 5.966215 & 6.321657 & 6.060676 & 6.077992 & BCAN   \\\\\n",
       "\t42313 & 42313 & 91952\\_at   & 6.749391 & 6.489252 & 6.394461 & 6.695105 & 6.420493 & 6.905075 & 6.722545 & 6.580546 & ⋯ & 7.029894 & 7.476906 & 7.291986 & 6.929070 & 7.116279 & 6.582520 & 6.431906 & 6.457010 & 6.030307 & DCAF15 \\\\\n",
       "\\end{tabular}\n"
      ],
      "text/markdown": [
       "\n",
       "A data.frame: 6 × 467\n",
       "\n",
       "| <!--/--> | X &lt;int&gt; | ID &lt;chr&gt; | GSM1254265.CEL &lt;dbl&gt; | GSM1254267.CEL &lt;dbl&gt; | GSM1254268.CEL &lt;dbl&gt; | GSM1254269.CEL &lt;dbl&gt; | GSM1254270.CEL &lt;dbl&gt; | GSM1254271.CEL &lt;dbl&gt; | GSM1254272.CEL &lt;dbl&gt; | GSM1254273.CEL &lt;dbl&gt; | ⋯ ⋯ | GSM726249.CEL &lt;dbl&gt; | GSM726251.CEL &lt;dbl&gt; | GSM726252.CEL &lt;dbl&gt; | GSM726253.CEL &lt;dbl&gt; | GSM726256.CEL &lt;dbl&gt; | GSM726257.CEL &lt;dbl&gt; | GSM726258.CEL &lt;dbl&gt; | GSM726259.CEL &lt;dbl&gt; | GSM726260.CEL &lt;dbl&gt; | name &lt;chr&gt; |\n",
       "|---|---|---|---|---|---|---|---|---|---|---|---|---|---|---|---|---|---|---|---|---|---|\n",
       "| 42308 | 42308 | 91684_g_at | 6.766378 | 6.301067 | 6.942578 | 7.182671 | 6.619921 | 6.066498 | 6.505410 | 6.035226 | ⋯ | 6.528560 | 6.719971 | 6.890480 | 7.020884 | 6.317323 | 6.477495 | 6.103140 | 5.734245 | 6.278673 | EXOSC4  |\n",
       "| 42309 | 42309 | 91703_at   | 6.747648 | 6.676374 | 6.881059 | 6.822209 | 7.069263 | 8.423341 | 6.621008 | 6.776445 | ⋯ | 7.224058 | 8.298455 | 7.084531 | 6.432603 | 7.648241 | 7.355685 | 8.489993 | 6.966807 | 6.403711 | EHBP1L1 |\n",
       "| 42310 | 42310 | 91816_f_at | 3.408123 | 3.183218 | 2.989174 | 3.100119 | 3.051995 | 3.283360 | 3.096775 | 3.421928 | ⋯ | 4.308559 | 4.362729 | 3.832156 | 4.822119 | 3.246183 | 3.405585 | 3.209524 | 3.436144 | 3.152048 | MEX3D   |\n",
       "| 42311 | 42311 | 91826_at   | 5.018403 | 4.752440 | 4.660150 | 4.963589 | 4.880585 | 5.415532 | 4.880591 | 5.179232 | ⋯ | 5.615756 | 5.725632 | 5.402862 | 5.045892 | 5.154306 | 4.901181 | 5.079040 | 5.071480 | 4.677314 | EPS8L1  |\n",
       "| 42312 | 42312 | 91920_at   | 5.989433 | 6.111611 | 6.092421 | 6.281226 | 6.040389 | 6.131345 | 6.635692 | 6.061870 | ⋯ | 6.112284 | 6.114066 | 6.248340 | 6.151032 | 6.232299 | 5.966215 | 6.321657 | 6.060676 | 6.077992 | BCAN    |\n",
       "| 42313 | 42313 | 91952_at   | 6.749391 | 6.489252 | 6.394461 | 6.695105 | 6.420493 | 6.905075 | 6.722545 | 6.580546 | ⋯ | 7.029894 | 7.476906 | 7.291986 | 6.929070 | 7.116279 | 6.582520 | 6.431906 | 6.457010 | 6.030307 | DCAF15  |\n",
       "\n"
      ],
      "text/plain": [
       "      X     ID         GSM1254265.CEL GSM1254267.CEL GSM1254268.CEL\n",
       "42308 42308 91684_g_at 6.766378       6.301067       6.942578      \n",
       "42309 42309 91703_at   6.747648       6.676374       6.881059      \n",
       "42310 42310 91816_f_at 3.408123       3.183218       2.989174      \n",
       "42311 42311 91826_at   5.018403       4.752440       4.660150      \n",
       "42312 42312 91920_at   5.989433       6.111611       6.092421      \n",
       "42313 42313 91952_at   6.749391       6.489252       6.394461      \n",
       "      GSM1254269.CEL GSM1254270.CEL GSM1254271.CEL GSM1254272.CEL\n",
       "42308 7.182671       6.619921       6.066498       6.505410      \n",
       "42309 6.822209       7.069263       8.423341       6.621008      \n",
       "42310 3.100119       3.051995       3.283360       3.096775      \n",
       "42311 4.963589       4.880585       5.415532       4.880591      \n",
       "42312 6.281226       6.040389       6.131345       6.635692      \n",
       "42313 6.695105       6.420493       6.905075       6.722545      \n",
       "      GSM1254273.CEL ⋯ GSM726249.CEL GSM726251.CEL GSM726252.CEL GSM726253.CEL\n",
       "42308 6.035226       ⋯ 6.528560      6.719971      6.890480      7.020884     \n",
       "42309 6.776445       ⋯ 7.224058      8.298455      7.084531      6.432603     \n",
       "42310 3.421928       ⋯ 4.308559      4.362729      3.832156      4.822119     \n",
       "42311 5.179232       ⋯ 5.615756      5.725632      5.402862      5.045892     \n",
       "42312 6.061870       ⋯ 6.112284      6.114066      6.248340      6.151032     \n",
       "42313 6.580546       ⋯ 7.029894      7.476906      7.291986      6.929070     \n",
       "      GSM726256.CEL GSM726257.CEL GSM726258.CEL GSM726259.CEL GSM726260.CEL\n",
       "42308 6.317323      6.477495      6.103140      5.734245      6.278673     \n",
       "42309 7.648241      7.355685      8.489993      6.966807      6.403711     \n",
       "42310 3.246183      3.405585      3.209524      3.436144      3.152048     \n",
       "42311 5.154306      4.901181      5.079040      5.071480      4.677314     \n",
       "42312 6.232299      5.966215      6.321657      6.060676      6.077992     \n",
       "42313 7.116279      6.582520      6.431906      6.457010      6.030307     \n",
       "      name   \n",
       "42308 EXOSC4 \n",
       "42309 EHBP1L1\n",
       "42310 MEX3D  \n",
       "42311 EPS8L1 \n",
       "42312 BCAN   \n",
       "42313 DCAF15 "
      ]
     },
     "metadata": {},
     "output_type": "display_data"
    }
   ],
   "source": [
    "tail(expr.mat)"
   ]
  },
  {
   "cell_type": "code",
   "execution_count": 19,
   "id": "8cab4095",
   "metadata": {
    "execution": {
     "iopub.execute_input": "2021-08-28T05:43:46.384997Z",
     "iopub.status.busy": "2021-08-28T05:43:46.383133Z",
     "iopub.status.idle": "2021-08-28T05:43:46.626679Z",
     "shell.execute_reply": "2021-08-28T05:43:46.625161Z"
    },
    "papermill": {
     "duration": 0.27134,
     "end_time": "2021-08-28T05:43:46.626847",
     "exception": false,
     "start_time": "2021-08-28T05:43:46.355507",
     "status": "completed"
    },
    "tags": []
   },
   "outputs": [],
   "source": [
    "expr.mat = expr.mat[!duplicated(expr.mat$name),]"
   ]
  },
  {
   "cell_type": "code",
   "execution_count": 20,
   "id": "5988f53f",
   "metadata": {
    "execution": {
     "iopub.execute_input": "2021-08-28T05:43:46.681471Z",
     "iopub.status.busy": "2021-08-28T05:43:46.679440Z",
     "iopub.status.idle": "2021-08-28T05:43:46.699999Z",
     "shell.execute_reply": "2021-08-28T05:43:46.698572Z"
    },
    "papermill": {
     "duration": 0.049668,
     "end_time": "2021-08-28T05:43:46.700129",
     "exception": false,
     "start_time": "2021-08-28T05:43:46.650461",
     "status": "completed"
    },
    "tags": []
   },
   "outputs": [
    {
     "data": {
      "text/html": [
       "<style>\n",
       ".list-inline {list-style: none; margin:0; padding: 0}\n",
       ".list-inline>li {display: inline-block}\n",
       ".list-inline>li:not(:last-child)::after {content: \"\\00b7\"; padding: 0 .5ex}\n",
       "</style>\n",
       "<ol class=list-inline><li>20660</li><li>467</li></ol>\n"
      ],
      "text/latex": [
       "\\begin{enumerate*}\n",
       "\\item 20660\n",
       "\\item 467\n",
       "\\end{enumerate*}\n"
      ],
      "text/markdown": [
       "1. 20660\n",
       "2. 467\n",
       "\n",
       "\n"
      ],
      "text/plain": [
       "[1] 20660   467"
      ]
     },
     "metadata": {},
     "output_type": "display_data"
    }
   ],
   "source": [
    "dim(expr.mat)"
   ]
  },
  {
   "cell_type": "code",
   "execution_count": 21,
   "id": "959a8a49",
   "metadata": {
    "execution": {
     "iopub.execute_input": "2021-08-28T05:43:46.754517Z",
     "iopub.status.busy": "2021-08-28T05:43:46.752889Z",
     "iopub.status.idle": "2021-08-28T05:43:46.852727Z",
     "shell.execute_reply": "2021-08-28T05:43:46.849593Z"
    },
    "papermill": {
     "duration": 0.129169,
     "end_time": "2021-08-28T05:43:46.852956",
     "exception": false,
     "start_time": "2021-08-28T05:43:46.723787",
     "status": "completed"
    },
    "tags": []
   },
   "outputs": [
    {
     "data": {
      "text/html": [
       "<table class=\"dataframe\">\n",
       "<caption>A data.frame: 6 × 467</caption>\n",
       "<thead>\n",
       "\t<tr><th></th><th scope=col>X</th><th scope=col>ID</th><th scope=col>GSM1254265.CEL</th><th scope=col>GSM1254267.CEL</th><th scope=col>GSM1254268.CEL</th><th scope=col>GSM1254269.CEL</th><th scope=col>GSM1254270.CEL</th><th scope=col>GSM1254271.CEL</th><th scope=col>GSM1254272.CEL</th><th scope=col>GSM1254273.CEL</th><th scope=col>⋯</th><th scope=col>GSM726249.CEL</th><th scope=col>GSM726251.CEL</th><th scope=col>GSM726252.CEL</th><th scope=col>GSM726253.CEL</th><th scope=col>GSM726256.CEL</th><th scope=col>GSM726257.CEL</th><th scope=col>GSM726258.CEL</th><th scope=col>GSM726259.CEL</th><th scope=col>GSM726260.CEL</th><th scope=col>name</th></tr>\n",
       "\t<tr><th></th><th scope=col>&lt;int&gt;</th><th scope=col>&lt;chr&gt;</th><th scope=col>&lt;dbl&gt;</th><th scope=col>&lt;dbl&gt;</th><th scope=col>&lt;dbl&gt;</th><th scope=col>&lt;dbl&gt;</th><th scope=col>&lt;dbl&gt;</th><th scope=col>&lt;dbl&gt;</th><th scope=col>&lt;dbl&gt;</th><th scope=col>&lt;dbl&gt;</th><th scope=col>⋯</th><th scope=col>&lt;dbl&gt;</th><th scope=col>&lt;dbl&gt;</th><th scope=col>&lt;dbl&gt;</th><th scope=col>&lt;dbl&gt;</th><th scope=col>&lt;dbl&gt;</th><th scope=col>&lt;dbl&gt;</th><th scope=col>&lt;dbl&gt;</th><th scope=col>&lt;dbl&gt;</th><th scope=col>&lt;dbl&gt;</th><th scope=col>&lt;chr&gt;</th></tr>\n",
       "</thead>\n",
       "<tbody>\n",
       "\t<tr><th scope=row>42236</th><td>42236</td><td>57739_at  </td><td>7.253950</td><td>7.236794</td><td>5.995227</td><td>6.603600</td><td>6.893824</td><td>6.861632</td><td>5.891815</td><td>6.986671</td><td>⋯</td><td>6.863166</td><td>7.226329</td><td>6.006122</td><td>6.535600</td><td>7.311797</td><td>6.541876</td><td>6.737183</td><td>7.020209</td><td>7.355203</td><td>DND1P1      </td></tr>\n",
       "\t<tr><th scope=row>42266</th><td>42266</td><td>64408_s_at</td><td>5.975910</td><td>4.020682</td><td>5.394315</td><td>5.085051</td><td>5.497240</td><td>7.694316</td><td>6.324222</td><td>6.712675</td><td>⋯</td><td>6.178140</td><td>5.865860</td><td>5.505338</td><td>4.240999</td><td>4.679240</td><td>5.610164</td><td>6.537012</td><td>6.023501</td><td>4.706747</td><td>64408_s_at  </td></tr>\n",
       "\t<tr><th scope=row>42275</th><td>42275</td><td>64900_at  </td><td>3.074506</td><td>2.837487</td><td>2.773762</td><td>2.760590</td><td>2.741710</td><td>3.048127</td><td>3.078253</td><td>2.907534</td><td>⋯</td><td>3.348545</td><td>3.535437</td><td>3.084098</td><td>4.230598</td><td>2.816035</td><td>3.409068</td><td>2.921560</td><td>3.368075</td><td>2.706996</td><td>TMEM231     </td></tr>\n",
       "\t<tr><th scope=row>42298</th><td>42298</td><td>81737_at  </td><td>5.782047</td><td>5.998033</td><td>5.723267</td><td>6.003600</td><td>5.948172</td><td>6.099029</td><td>5.174717</td><td>5.317616</td><td>⋯</td><td>5.847827</td><td>5.760503</td><td>5.763633</td><td>5.436408</td><td>5.052692</td><td>5.873616</td><td>5.685748</td><td>5.781354</td><td>5.832693</td><td>81737_at    </td></tr>\n",
       "\t<tr><th scope=row>42301</th><td>42301</td><td>89476_r_at</td><td>6.884389</td><td>6.466569</td><td>6.485259</td><td>6.750198</td><td>6.706266</td><td>7.183014</td><td>7.329092</td><td>6.932983</td><td>⋯</td><td>7.016904</td><td>7.179459</td><td>6.755633</td><td>6.982025</td><td>7.207387</td><td>6.942184</td><td>7.102979</td><td>6.938517</td><td>6.874608</td><td>STX16-NPEPL1</td></tr>\n",
       "\t<tr><th scope=row>42305</th><td>42305</td><td>90610_at  </td><td>9.224288</td><td>8.821587</td><td>9.134468</td><td>8.010974</td><td>9.504773</td><td>9.739866</td><td>8.904690</td><td>9.337613</td><td>⋯</td><td>8.849445</td><td>9.631514</td><td>8.454110</td><td>8.295130</td><td>9.539139</td><td>8.894052</td><td>9.352746</td><td>9.303458</td><td>9.373897</td><td>90610_at    </td></tr>\n",
       "</tbody>\n",
       "</table>\n"
      ],
      "text/latex": [
       "A data.frame: 6 × 467\n",
       "\\begin{tabular}{r|lllllllllllllllllllll}\n",
       "  & X & ID & GSM1254265.CEL & GSM1254267.CEL & GSM1254268.CEL & GSM1254269.CEL & GSM1254270.CEL & GSM1254271.CEL & GSM1254272.CEL & GSM1254273.CEL & ⋯ & GSM726249.CEL & GSM726251.CEL & GSM726252.CEL & GSM726253.CEL & GSM726256.CEL & GSM726257.CEL & GSM726258.CEL & GSM726259.CEL & GSM726260.CEL & name\\\\\n",
       "  & <int> & <chr> & <dbl> & <dbl> & <dbl> & <dbl> & <dbl> & <dbl> & <dbl> & <dbl> & ⋯ & <dbl> & <dbl> & <dbl> & <dbl> & <dbl> & <dbl> & <dbl> & <dbl> & <dbl> & <chr>\\\\\n",
       "\\hline\n",
       "\t42236 & 42236 & 57739\\_at   & 7.253950 & 7.236794 & 5.995227 & 6.603600 & 6.893824 & 6.861632 & 5.891815 & 6.986671 & ⋯ & 6.863166 & 7.226329 & 6.006122 & 6.535600 & 7.311797 & 6.541876 & 6.737183 & 7.020209 & 7.355203 & DND1P1      \\\\\n",
       "\t42266 & 42266 & 64408\\_s\\_at & 5.975910 & 4.020682 & 5.394315 & 5.085051 & 5.497240 & 7.694316 & 6.324222 & 6.712675 & ⋯ & 6.178140 & 5.865860 & 5.505338 & 4.240999 & 4.679240 & 5.610164 & 6.537012 & 6.023501 & 4.706747 & 64408\\_s\\_at  \\\\\n",
       "\t42275 & 42275 & 64900\\_at   & 3.074506 & 2.837487 & 2.773762 & 2.760590 & 2.741710 & 3.048127 & 3.078253 & 2.907534 & ⋯ & 3.348545 & 3.535437 & 3.084098 & 4.230598 & 2.816035 & 3.409068 & 2.921560 & 3.368075 & 2.706996 & TMEM231     \\\\\n",
       "\t42298 & 42298 & 81737\\_at   & 5.782047 & 5.998033 & 5.723267 & 6.003600 & 5.948172 & 6.099029 & 5.174717 & 5.317616 & ⋯ & 5.847827 & 5.760503 & 5.763633 & 5.436408 & 5.052692 & 5.873616 & 5.685748 & 5.781354 & 5.832693 & 81737\\_at    \\\\\n",
       "\t42301 & 42301 & 89476\\_r\\_at & 6.884389 & 6.466569 & 6.485259 & 6.750198 & 6.706266 & 7.183014 & 7.329092 & 6.932983 & ⋯ & 7.016904 & 7.179459 & 6.755633 & 6.982025 & 7.207387 & 6.942184 & 7.102979 & 6.938517 & 6.874608 & STX16-NPEPL1\\\\\n",
       "\t42305 & 42305 & 90610\\_at   & 9.224288 & 8.821587 & 9.134468 & 8.010974 & 9.504773 & 9.739866 & 8.904690 & 9.337613 & ⋯ & 8.849445 & 9.631514 & 8.454110 & 8.295130 & 9.539139 & 8.894052 & 9.352746 & 9.303458 & 9.373897 & 90610\\_at    \\\\\n",
       "\\end{tabular}\n"
      ],
      "text/markdown": [
       "\n",
       "A data.frame: 6 × 467\n",
       "\n",
       "| <!--/--> | X &lt;int&gt; | ID &lt;chr&gt; | GSM1254265.CEL &lt;dbl&gt; | GSM1254267.CEL &lt;dbl&gt; | GSM1254268.CEL &lt;dbl&gt; | GSM1254269.CEL &lt;dbl&gt; | GSM1254270.CEL &lt;dbl&gt; | GSM1254271.CEL &lt;dbl&gt; | GSM1254272.CEL &lt;dbl&gt; | GSM1254273.CEL &lt;dbl&gt; | ⋯ ⋯ | GSM726249.CEL &lt;dbl&gt; | GSM726251.CEL &lt;dbl&gt; | GSM726252.CEL &lt;dbl&gt; | GSM726253.CEL &lt;dbl&gt; | GSM726256.CEL &lt;dbl&gt; | GSM726257.CEL &lt;dbl&gt; | GSM726258.CEL &lt;dbl&gt; | GSM726259.CEL &lt;dbl&gt; | GSM726260.CEL &lt;dbl&gt; | name &lt;chr&gt; |\n",
       "|---|---|---|---|---|---|---|---|---|---|---|---|---|---|---|---|---|---|---|---|---|---|\n",
       "| 42236 | 42236 | 57739_at   | 7.253950 | 7.236794 | 5.995227 | 6.603600 | 6.893824 | 6.861632 | 5.891815 | 6.986671 | ⋯ | 6.863166 | 7.226329 | 6.006122 | 6.535600 | 7.311797 | 6.541876 | 6.737183 | 7.020209 | 7.355203 | DND1P1       |\n",
       "| 42266 | 42266 | 64408_s_at | 5.975910 | 4.020682 | 5.394315 | 5.085051 | 5.497240 | 7.694316 | 6.324222 | 6.712675 | ⋯ | 6.178140 | 5.865860 | 5.505338 | 4.240999 | 4.679240 | 5.610164 | 6.537012 | 6.023501 | 4.706747 | 64408_s_at   |\n",
       "| 42275 | 42275 | 64900_at   | 3.074506 | 2.837487 | 2.773762 | 2.760590 | 2.741710 | 3.048127 | 3.078253 | 2.907534 | ⋯ | 3.348545 | 3.535437 | 3.084098 | 4.230598 | 2.816035 | 3.409068 | 2.921560 | 3.368075 | 2.706996 | TMEM231      |\n",
       "| 42298 | 42298 | 81737_at   | 5.782047 | 5.998033 | 5.723267 | 6.003600 | 5.948172 | 6.099029 | 5.174717 | 5.317616 | ⋯ | 5.847827 | 5.760503 | 5.763633 | 5.436408 | 5.052692 | 5.873616 | 5.685748 | 5.781354 | 5.832693 | 81737_at     |\n",
       "| 42301 | 42301 | 89476_r_at | 6.884389 | 6.466569 | 6.485259 | 6.750198 | 6.706266 | 7.183014 | 7.329092 | 6.932983 | ⋯ | 7.016904 | 7.179459 | 6.755633 | 6.982025 | 7.207387 | 6.942184 | 7.102979 | 6.938517 | 6.874608 | STX16-NPEPL1 |\n",
       "| 42305 | 42305 | 90610_at   | 9.224288 | 8.821587 | 9.134468 | 8.010974 | 9.504773 | 9.739866 | 8.904690 | 9.337613 | ⋯ | 8.849445 | 9.631514 | 8.454110 | 8.295130 | 9.539139 | 8.894052 | 9.352746 | 9.303458 | 9.373897 | 90610_at     |\n",
       "\n"
      ],
      "text/plain": [
       "      X     ID         GSM1254265.CEL GSM1254267.CEL GSM1254268.CEL\n",
       "42236 42236 57739_at   7.253950       7.236794       5.995227      \n",
       "42266 42266 64408_s_at 5.975910       4.020682       5.394315      \n",
       "42275 42275 64900_at   3.074506       2.837487       2.773762      \n",
       "42298 42298 81737_at   5.782047       5.998033       5.723267      \n",
       "42301 42301 89476_r_at 6.884389       6.466569       6.485259      \n",
       "42305 42305 90610_at   9.224288       8.821587       9.134468      \n",
       "      GSM1254269.CEL GSM1254270.CEL GSM1254271.CEL GSM1254272.CEL\n",
       "42236 6.603600       6.893824       6.861632       5.891815      \n",
       "42266 5.085051       5.497240       7.694316       6.324222      \n",
       "42275 2.760590       2.741710       3.048127       3.078253      \n",
       "42298 6.003600       5.948172       6.099029       5.174717      \n",
       "42301 6.750198       6.706266       7.183014       7.329092      \n",
       "42305 8.010974       9.504773       9.739866       8.904690      \n",
       "      GSM1254273.CEL ⋯ GSM726249.CEL GSM726251.CEL GSM726252.CEL GSM726253.CEL\n",
       "42236 6.986671       ⋯ 6.863166      7.226329      6.006122      6.535600     \n",
       "42266 6.712675       ⋯ 6.178140      5.865860      5.505338      4.240999     \n",
       "42275 2.907534       ⋯ 3.348545      3.535437      3.084098      4.230598     \n",
       "42298 5.317616       ⋯ 5.847827      5.760503      5.763633      5.436408     \n",
       "42301 6.932983       ⋯ 7.016904      7.179459      6.755633      6.982025     \n",
       "42305 9.337613       ⋯ 8.849445      9.631514      8.454110      8.295130     \n",
       "      GSM726256.CEL GSM726257.CEL GSM726258.CEL GSM726259.CEL GSM726260.CEL\n",
       "42236 7.311797      6.541876      6.737183      7.020209      7.355203     \n",
       "42266 4.679240      5.610164      6.537012      6.023501      4.706747     \n",
       "42275 2.816035      3.409068      2.921560      3.368075      2.706996     \n",
       "42298 5.052692      5.873616      5.685748      5.781354      5.832693     \n",
       "42301 7.207387      6.942184      7.102979      6.938517      6.874608     \n",
       "42305 9.539139      8.894052      9.352746      9.303458      9.373897     \n",
       "      name        \n",
       "42236 DND1P1      \n",
       "42266 64408_s_at  \n",
       "42275 TMEM231     \n",
       "42298 81737_at    \n",
       "42301 STX16-NPEPL1\n",
       "42305 90610_at    "
      ]
     },
     "metadata": {},
     "output_type": "display_data"
    }
   ],
   "source": [
    "tail(expr.mat)"
   ]
  },
  {
   "cell_type": "code",
   "execution_count": 22,
   "id": "b5ec0eff",
   "metadata": {
    "execution": {
     "iopub.execute_input": "2021-08-28T05:43:46.909437Z",
     "iopub.status.busy": "2021-08-28T05:43:46.907566Z",
     "iopub.status.idle": "2021-08-28T05:43:46.924489Z",
     "shell.execute_reply": "2021-08-28T05:43:46.922766Z"
    },
    "papermill": {
     "duration": 0.046862,
     "end_time": "2021-08-28T05:43:46.924644",
     "exception": false,
     "start_time": "2021-08-28T05:43:46.877782",
     "status": "completed"
    },
    "tags": []
   },
   "outputs": [],
   "source": [
    "expr.mat = expr.mat[,!(names(expr.mat) %in% c(\"X\", \"ID\"))]"
   ]
  },
  {
   "cell_type": "code",
   "execution_count": 23,
   "id": "a5155a6a",
   "metadata": {
    "execution": {
     "iopub.execute_input": "2021-08-28T05:43:46.979756Z",
     "iopub.status.busy": "2021-08-28T05:43:46.977980Z",
     "iopub.status.idle": "2021-08-28T05:43:47.076941Z",
     "shell.execute_reply": "2021-08-28T05:43:47.075261Z"
    },
    "papermill": {
     "duration": 0.128073,
     "end_time": "2021-08-28T05:43:47.077092",
     "exception": false,
     "start_time": "2021-08-28T05:43:46.949019",
     "status": "completed"
    },
    "tags": []
   },
   "outputs": [
    {
     "data": {
      "text/html": [
       "<table class=\"dataframe\">\n",
       "<caption>A data.frame: 6 × 465</caption>\n",
       "<thead>\n",
       "\t<tr><th></th><th scope=col>GSM1254265.CEL</th><th scope=col>GSM1254267.CEL</th><th scope=col>GSM1254268.CEL</th><th scope=col>GSM1254269.CEL</th><th scope=col>GSM1254270.CEL</th><th scope=col>GSM1254271.CEL</th><th scope=col>GSM1254272.CEL</th><th scope=col>GSM1254273.CEL</th><th scope=col>GSM1254274.CEL</th><th scope=col>GSM1254275.CEL</th><th scope=col>⋯</th><th scope=col>GSM726249.CEL</th><th scope=col>GSM726251.CEL</th><th scope=col>GSM726252.CEL</th><th scope=col>GSM726253.CEL</th><th scope=col>GSM726256.CEL</th><th scope=col>GSM726257.CEL</th><th scope=col>GSM726258.CEL</th><th scope=col>GSM726259.CEL</th><th scope=col>GSM726260.CEL</th><th scope=col>name</th></tr>\n",
       "\t<tr><th></th><th scope=col>&lt;dbl&gt;</th><th scope=col>&lt;dbl&gt;</th><th scope=col>&lt;dbl&gt;</th><th scope=col>&lt;dbl&gt;</th><th scope=col>&lt;dbl&gt;</th><th scope=col>&lt;dbl&gt;</th><th scope=col>&lt;dbl&gt;</th><th scope=col>&lt;dbl&gt;</th><th scope=col>&lt;dbl&gt;</th><th scope=col>&lt;dbl&gt;</th><th scope=col>⋯</th><th scope=col>&lt;dbl&gt;</th><th scope=col>&lt;dbl&gt;</th><th scope=col>&lt;dbl&gt;</th><th scope=col>&lt;dbl&gt;</th><th scope=col>&lt;dbl&gt;</th><th scope=col>&lt;dbl&gt;</th><th scope=col>&lt;dbl&gt;</th><th scope=col>&lt;dbl&gt;</th><th scope=col>&lt;dbl&gt;</th><th scope=col>&lt;chr&gt;</th></tr>\n",
       "</thead>\n",
       "<tbody>\n",
       "\t<tr><th scope=row>1</th><td>7.537840</td><td>6.800871</td><td>6.752669</td><td>5.929756</td><td>7.353971</td><td>6.496232</td><td>6.716364</td><td>7.407105</td><td>7.955677</td><td>6.978522</td><td>⋯</td><td>7.605745</td><td>7.701945</td><td>7.096387</td><td>6.600813</td><td>6.563042</td><td>6.671309</td><td>5.930616</td><td>6.119624</td><td>6.554417</td><td>RFC2  </td></tr>\n",
       "\t<tr><th scope=row>2</th><td>4.679401</td><td>4.777950</td><td>4.360962</td><td>4.509553</td><td>4.720435</td><td>7.669224</td><td>5.432612</td><td>4.435121</td><td>4.860942</td><td>6.589701</td><td>⋯</td><td>4.396333</td><td>5.979429</td><td>4.177423</td><td>4.290783</td><td>5.271843</td><td>5.841040</td><td>7.307721</td><td>6.138064</td><td>4.855038</td><td>HSPA6 </td></tr>\n",
       "\t<tr><th scope=row>3</th><td>6.798042</td><td>7.370561</td><td>7.043800</td><td>7.132901</td><td>7.272406</td><td>6.851993</td><td>7.215697</td><td>7.225802</td><td>7.017084</td><td>7.035230</td><td>⋯</td><td>7.564590</td><td>6.726327</td><td>7.424036</td><td>7.026728</td><td>6.710751</td><td>7.198889</td><td>6.996386</td><td>6.894396</td><td>7.371354</td><td>PAX8  </td></tr>\n",
       "\t<tr><th scope=row>4</th><td>2.704549</td><td>2.500655</td><td>2.644052</td><td>2.712234</td><td>2.861128</td><td>2.913571</td><td>2.820453</td><td>2.752378</td><td>2.886452</td><td>2.818774</td><td>⋯</td><td>2.650575</td><td>2.795106</td><td>2.576289</td><td>2.807488</td><td>2.784839</td><td>2.746156</td><td>2.694078</td><td>3.009329</td><td>2.856732</td><td>GUCA1A</td></tr>\n",
       "\t<tr><th scope=row>5</th><td>4.544424</td><td>5.050274</td><td>4.988216</td><td>4.862662</td><td>5.144750</td><td>4.837291</td><td>4.871102</td><td>4.981282</td><td>4.780484</td><td>4.604664</td><td>⋯</td><td>4.846550</td><td>5.505493</td><td>5.088999</td><td>5.112156</td><td>5.743054</td><td>5.497159</td><td>5.444714</td><td>5.167476</td><td>5.273593</td><td>THRA  </td></tr>\n",
       "\t<tr><th scope=row>6</th><td>3.734027</td><td>3.630663</td><td>3.587355</td><td>4.006397</td><td>3.762099</td><td>3.608655</td><td>3.754732</td><td>3.931028</td><td>3.686961</td><td>3.656161</td><td>⋯</td><td>3.784949</td><td>3.751392</td><td>3.702852</td><td>3.803101</td><td>3.597913</td><td>3.614316</td><td>3.799544</td><td>3.681782</td><td>3.887242</td><td>PTPN21</td></tr>\n",
       "</tbody>\n",
       "</table>\n"
      ],
      "text/latex": [
       "A data.frame: 6 × 465\n",
       "\\begin{tabular}{r|lllllllllllllllllllll}\n",
       "  & GSM1254265.CEL & GSM1254267.CEL & GSM1254268.CEL & GSM1254269.CEL & GSM1254270.CEL & GSM1254271.CEL & GSM1254272.CEL & GSM1254273.CEL & GSM1254274.CEL & GSM1254275.CEL & ⋯ & GSM726249.CEL & GSM726251.CEL & GSM726252.CEL & GSM726253.CEL & GSM726256.CEL & GSM726257.CEL & GSM726258.CEL & GSM726259.CEL & GSM726260.CEL & name\\\\\n",
       "  & <dbl> & <dbl> & <dbl> & <dbl> & <dbl> & <dbl> & <dbl> & <dbl> & <dbl> & <dbl> & ⋯ & <dbl> & <dbl> & <dbl> & <dbl> & <dbl> & <dbl> & <dbl> & <dbl> & <dbl> & <chr>\\\\\n",
       "\\hline\n",
       "\t1 & 7.537840 & 6.800871 & 6.752669 & 5.929756 & 7.353971 & 6.496232 & 6.716364 & 7.407105 & 7.955677 & 6.978522 & ⋯ & 7.605745 & 7.701945 & 7.096387 & 6.600813 & 6.563042 & 6.671309 & 5.930616 & 6.119624 & 6.554417 & RFC2  \\\\\n",
       "\t2 & 4.679401 & 4.777950 & 4.360962 & 4.509553 & 4.720435 & 7.669224 & 5.432612 & 4.435121 & 4.860942 & 6.589701 & ⋯ & 4.396333 & 5.979429 & 4.177423 & 4.290783 & 5.271843 & 5.841040 & 7.307721 & 6.138064 & 4.855038 & HSPA6 \\\\\n",
       "\t3 & 6.798042 & 7.370561 & 7.043800 & 7.132901 & 7.272406 & 6.851993 & 7.215697 & 7.225802 & 7.017084 & 7.035230 & ⋯ & 7.564590 & 6.726327 & 7.424036 & 7.026728 & 6.710751 & 7.198889 & 6.996386 & 6.894396 & 7.371354 & PAX8  \\\\\n",
       "\t4 & 2.704549 & 2.500655 & 2.644052 & 2.712234 & 2.861128 & 2.913571 & 2.820453 & 2.752378 & 2.886452 & 2.818774 & ⋯ & 2.650575 & 2.795106 & 2.576289 & 2.807488 & 2.784839 & 2.746156 & 2.694078 & 3.009329 & 2.856732 & GUCA1A\\\\\n",
       "\t5 & 4.544424 & 5.050274 & 4.988216 & 4.862662 & 5.144750 & 4.837291 & 4.871102 & 4.981282 & 4.780484 & 4.604664 & ⋯ & 4.846550 & 5.505493 & 5.088999 & 5.112156 & 5.743054 & 5.497159 & 5.444714 & 5.167476 & 5.273593 & THRA  \\\\\n",
       "\t6 & 3.734027 & 3.630663 & 3.587355 & 4.006397 & 3.762099 & 3.608655 & 3.754732 & 3.931028 & 3.686961 & 3.656161 & ⋯ & 3.784949 & 3.751392 & 3.702852 & 3.803101 & 3.597913 & 3.614316 & 3.799544 & 3.681782 & 3.887242 & PTPN21\\\\\n",
       "\\end{tabular}\n"
      ],
      "text/markdown": [
       "\n",
       "A data.frame: 6 × 465\n",
       "\n",
       "| <!--/--> | GSM1254265.CEL &lt;dbl&gt; | GSM1254267.CEL &lt;dbl&gt; | GSM1254268.CEL &lt;dbl&gt; | GSM1254269.CEL &lt;dbl&gt; | GSM1254270.CEL &lt;dbl&gt; | GSM1254271.CEL &lt;dbl&gt; | GSM1254272.CEL &lt;dbl&gt; | GSM1254273.CEL &lt;dbl&gt; | GSM1254274.CEL &lt;dbl&gt; | GSM1254275.CEL &lt;dbl&gt; | ⋯ ⋯ | GSM726249.CEL &lt;dbl&gt; | GSM726251.CEL &lt;dbl&gt; | GSM726252.CEL &lt;dbl&gt; | GSM726253.CEL &lt;dbl&gt; | GSM726256.CEL &lt;dbl&gt; | GSM726257.CEL &lt;dbl&gt; | GSM726258.CEL &lt;dbl&gt; | GSM726259.CEL &lt;dbl&gt; | GSM726260.CEL &lt;dbl&gt; | name &lt;chr&gt; |\n",
       "|---|---|---|---|---|---|---|---|---|---|---|---|---|---|---|---|---|---|---|---|---|---|\n",
       "| 1 | 7.537840 | 6.800871 | 6.752669 | 5.929756 | 7.353971 | 6.496232 | 6.716364 | 7.407105 | 7.955677 | 6.978522 | ⋯ | 7.605745 | 7.701945 | 7.096387 | 6.600813 | 6.563042 | 6.671309 | 5.930616 | 6.119624 | 6.554417 | RFC2   |\n",
       "| 2 | 4.679401 | 4.777950 | 4.360962 | 4.509553 | 4.720435 | 7.669224 | 5.432612 | 4.435121 | 4.860942 | 6.589701 | ⋯ | 4.396333 | 5.979429 | 4.177423 | 4.290783 | 5.271843 | 5.841040 | 7.307721 | 6.138064 | 4.855038 | HSPA6  |\n",
       "| 3 | 6.798042 | 7.370561 | 7.043800 | 7.132901 | 7.272406 | 6.851993 | 7.215697 | 7.225802 | 7.017084 | 7.035230 | ⋯ | 7.564590 | 6.726327 | 7.424036 | 7.026728 | 6.710751 | 7.198889 | 6.996386 | 6.894396 | 7.371354 | PAX8   |\n",
       "| 4 | 2.704549 | 2.500655 | 2.644052 | 2.712234 | 2.861128 | 2.913571 | 2.820453 | 2.752378 | 2.886452 | 2.818774 | ⋯ | 2.650575 | 2.795106 | 2.576289 | 2.807488 | 2.784839 | 2.746156 | 2.694078 | 3.009329 | 2.856732 | GUCA1A |\n",
       "| 5 | 4.544424 | 5.050274 | 4.988216 | 4.862662 | 5.144750 | 4.837291 | 4.871102 | 4.981282 | 4.780484 | 4.604664 | ⋯ | 4.846550 | 5.505493 | 5.088999 | 5.112156 | 5.743054 | 5.497159 | 5.444714 | 5.167476 | 5.273593 | THRA   |\n",
       "| 6 | 3.734027 | 3.630663 | 3.587355 | 4.006397 | 3.762099 | 3.608655 | 3.754732 | 3.931028 | 3.686961 | 3.656161 | ⋯ | 3.784949 | 3.751392 | 3.702852 | 3.803101 | 3.597913 | 3.614316 | 3.799544 | 3.681782 | 3.887242 | PTPN21 |\n",
       "\n"
      ],
      "text/plain": [
       "  GSM1254265.CEL GSM1254267.CEL GSM1254268.CEL GSM1254269.CEL GSM1254270.CEL\n",
       "1 7.537840       6.800871       6.752669       5.929756       7.353971      \n",
       "2 4.679401       4.777950       4.360962       4.509553       4.720435      \n",
       "3 6.798042       7.370561       7.043800       7.132901       7.272406      \n",
       "4 2.704549       2.500655       2.644052       2.712234       2.861128      \n",
       "5 4.544424       5.050274       4.988216       4.862662       5.144750      \n",
       "6 3.734027       3.630663       3.587355       4.006397       3.762099      \n",
       "  GSM1254271.CEL GSM1254272.CEL GSM1254273.CEL GSM1254274.CEL GSM1254275.CEL ⋯\n",
       "1 6.496232       6.716364       7.407105       7.955677       6.978522       ⋯\n",
       "2 7.669224       5.432612       4.435121       4.860942       6.589701       ⋯\n",
       "3 6.851993       7.215697       7.225802       7.017084       7.035230       ⋯\n",
       "4 2.913571       2.820453       2.752378       2.886452       2.818774       ⋯\n",
       "5 4.837291       4.871102       4.981282       4.780484       4.604664       ⋯\n",
       "6 3.608655       3.754732       3.931028       3.686961       3.656161       ⋯\n",
       "  GSM726249.CEL GSM726251.CEL GSM726252.CEL GSM726253.CEL GSM726256.CEL\n",
       "1 7.605745      7.701945      7.096387      6.600813      6.563042     \n",
       "2 4.396333      5.979429      4.177423      4.290783      5.271843     \n",
       "3 7.564590      6.726327      7.424036      7.026728      6.710751     \n",
       "4 2.650575      2.795106      2.576289      2.807488      2.784839     \n",
       "5 4.846550      5.505493      5.088999      5.112156      5.743054     \n",
       "6 3.784949      3.751392      3.702852      3.803101      3.597913     \n",
       "  GSM726257.CEL GSM726258.CEL GSM726259.CEL GSM726260.CEL name  \n",
       "1 6.671309      5.930616      6.119624      6.554417      RFC2  \n",
       "2 5.841040      7.307721      6.138064      4.855038      HSPA6 \n",
       "3 7.198889      6.996386      6.894396      7.371354      PAX8  \n",
       "4 2.746156      2.694078      3.009329      2.856732      GUCA1A\n",
       "5 5.497159      5.444714      5.167476      5.273593      THRA  \n",
       "6 3.614316      3.799544      3.681782      3.887242      PTPN21"
      ]
     },
     "metadata": {},
     "output_type": "display_data"
    }
   ],
   "source": [
    "head(expr.mat)"
   ]
  },
  {
   "cell_type": "code",
   "execution_count": 24,
   "id": "470c79c1",
   "metadata": {
    "execution": {
     "iopub.execute_input": "2021-08-28T05:43:47.135931Z",
     "iopub.status.busy": "2021-08-28T05:43:47.133490Z",
     "iopub.status.idle": "2021-08-28T05:43:58.676641Z",
     "shell.execute_reply": "2021-08-28T05:43:58.674700Z"
    },
    "papermill": {
     "duration": 11.57366,
     "end_time": "2021-08-28T05:43:58.676856",
     "exception": false,
     "start_time": "2021-08-28T05:43:47.103196",
     "status": "completed"
    },
    "tags": []
   },
   "outputs": [],
   "source": [
    "write.csv(expr.mat, \"GSE147515_FAB_mat.csv\")"
   ]
  },
  {
   "cell_type": "code",
   "execution_count": null,
   "id": "c1474bc3",
   "metadata": {
    "papermill": {
     "duration": 0.025026,
     "end_time": "2021-08-28T05:43:58.727650",
     "exception": false,
     "start_time": "2021-08-28T05:43:58.702624",
     "status": "completed"
    },
    "tags": []
   },
   "outputs": [],
   "source": []
  }
 ],
 "metadata": {
  "kernelspec": {
   "display_name": "R",
   "language": "R",
   "name": "ir"
  },
  "language_info": {
   "codemirror_mode": "r",
   "file_extension": ".r",
   "mimetype": "text/x-r-source",
   "name": "R",
   "pygments_lexer": "r",
   "version": "4.0.5"
  },
  "papermill": {
   "default_parameters": {},
   "duration": 739.254523,
   "end_time": "2021-08-28T05:43:59.892396",
   "environment_variables": {},
   "exception": null,
   "input_path": "__notebook__.ipynb",
   "output_path": "__notebook__.ipynb",
   "parameters": {},
   "start_time": "2021-08-28T05:31:40.637873",
   "version": "2.3.3"
  }
 },
 "nbformat": 4,
 "nbformat_minor": 5
}
